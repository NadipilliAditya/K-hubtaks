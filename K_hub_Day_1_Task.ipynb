{
  "nbformat": 4,
  "nbformat_minor": 0,
  "metadata": {
    "colab": {
      "provenance": [],
      "authorship_tag": "ABX9TyOSxaFn7cbRPwEDwiqiclLC",
      "include_colab_link": true
    },
    "kernelspec": {
      "name": "python3",
      "display_name": "Python 3"
    },
    "language_info": {
      "name": "python"
    }
  },
  "cells": [
    {
      "cell_type": "markdown",
      "metadata": {
        "id": "view-in-github",
        "colab_type": "text"
      },
      "source": [
        "<a href=\"https://colab.research.google.com/github/NadipilliAditya/K-hubtaks/blob/main/K_hub_Day_1_Task.ipynb\" target=\"_parent\"><img src=\"https://colab.research.google.com/assets/colab-badge.svg\" alt=\"Open In Colab\"/></a>"
      ]
    },
    {
      "cell_type": "markdown",
      "source": [
        "# **DAY-1**\n",
        "\n",
        "Python basics\n",
        "\n",
        "1. strings and string methods, booleans, and operators\n",
        "\n",
        "2. list, tuples, sets and dictionaries\n",
        "\n",
        "3. conditional Statements\n",
        "\n",
        "4. Match Case"
      ],
      "metadata": {
        "id": "xkb5LORxeXFJ"
      }
    },
    {
      "cell_type": "markdown",
      "source": [
        "**Strings**\n",
        "strings are denoted by single or double quotes.\n",
        "\n"
      ],
      "metadata": {
        "id": "kyIphoU-e_hG"
      }
    },
    {
      "cell_type": "code",
      "source": [
        "print(\"hii\")\n",
        "\n",
        "print('hii')\n",
        "\n"
      ],
      "metadata": {
        "colab": {
          "base_uri": "https://localhost:8080/"
        },
        "id": "xjTEF80knjJI",
        "outputId": "556692c2-b3c8-4c57-80dc-8dd748532f94"
      },
      "execution_count": null,
      "outputs": [
        {
          "output_type": "stream",
          "name": "stdout",
          "text": [
            "hii\n",
            "hii\n"
          ]
        }
      ]
    },
    {
      "cell_type": "markdown",
      "source": [
        "**Assign String to a Variable**\n",
        "\n",
        "Allocating a value to a variable using equal to operator"
      ],
      "metadata": {
        "id": "YCbs9Xihn_zx"
      }
    },
    {
      "cell_type": "code",
      "source": [
        "# single line strings\n",
        "a = \"good morning\"\n",
        "print(a)"
      ],
      "metadata": {
        "colab": {
          "base_uri": "https://localhost:8080/"
        },
        "id": "0bO-d1pToKdA",
        "outputId": "edbb92b3-b9d6-4d5a-95e3-5474b935b903"
      },
      "execution_count": null,
      "outputs": [
        {
          "output_type": "stream",
          "name": "stdout",
          "text": [
            "good morning\n"
          ]
        }
      ]
    },
    {
      "cell_type": "code",
      "source": [
        "# multi line strings\n",
        "message = \"\"\"This is line one.\n",
        "This is line two.\"\"\"\n",
        "print(message)\n"
      ],
      "metadata": {
        "colab": {
          "base_uri": "https://localhost:8080/"
        },
        "id": "KYSufDC8t0bY",
        "outputId": "972504a3-0c4f-4d79-807b-d9fa5be9bd7d"
      },
      "execution_count": null,
      "outputs": [
        {
          "output_type": "stream",
          "name": "stdout",
          "text": [
            "This is line one.\n",
            "This is line two.\n"
          ]
        }
      ]
    },
    {
      "cell_type": "code",
      "source": [
        "#Get position of a character (indexing)\n",
        "a = \"Hello,buddies\"\n",
        "print(a[1])"
      ],
      "metadata": {
        "colab": {
          "base_uri": "https://localhost:8080/"
        },
        "id": "aqWIv7XivBY_",
        "outputId": "6fde7a8d-f7f8-44dc-ef01-d2e0b632ab8e"
      },
      "execution_count": null,
      "outputs": [
        {
          "output_type": "stream",
          "name": "stdout",
          "text": [
            "e\n"
          ]
        }
      ]
    },
    {
      "cell_type": "code",
      "source": [
        "# Looping Through a String\n",
        "for x in \"apple\":\n",
        "  print(x)"
      ],
      "metadata": {
        "colab": {
          "base_uri": "https://localhost:8080/"
        },
        "id": "1354bnMdvUCp",
        "outputId": "6d65de53-9f0b-45c3-9e03-47f7e0c3c25b"
      },
      "execution_count": null,
      "outputs": [
        {
          "output_type": "stream",
          "name": "stdout",
          "text": [
            "a\n",
            "p\n",
            "p\n",
            "l\n",
            "e\n"
          ]
        }
      ]
    },
    {
      "cell_type": "code",
      "source": [
        "# string length\n",
        "a= \"hii guys\"\n",
        "print(len(a))"
      ],
      "metadata": {
        "colab": {
          "base_uri": "https://localhost:8080/"
        },
        "id": "SkVp46w9vz34",
        "outputId": "db776a64-0d2b-4bb2-c1ab-a85c099ec03b"
      },
      "execution_count": null,
      "outputs": [
        {
          "output_type": "stream",
          "name": "stdout",
          "text": [
            "8\n"
          ]
        }
      ]
    },
    {
      "cell_type": "code",
      "source": [
        "#Check String\n",
        "#To check if a certain phrase or character is present in a string\n",
        "# using in keyword\n",
        "\n",
        "txt = \"Everything is precious in this world\"\n",
        "print(\"world\" in txt)\n",
        "print(\"hii\" in txt)"
      ],
      "metadata": {
        "colab": {
          "base_uri": "https://localhost:8080/"
        },
        "id": "BYsBaoI1wHmW",
        "outputId": "8ef603b5-5e92-48b7-f925-f7f13f7e0a38"
      },
      "execution_count": null,
      "outputs": [
        {
          "output_type": "stream",
          "name": "stdout",
          "text": [
            "True\n",
            "False\n"
          ]
        }
      ]
    },
    {
      "cell_type": "code",
      "source": [
        "#Slicing\n",
        "a = \"Hello, World!\"\n",
        "print(a[2:5])"
      ],
      "metadata": {
        "colab": {
          "base_uri": "https://localhost:8080/"
        },
        "id": "B0k_AMiyxJ7V",
        "outputId": "506392e6-042c-4546-a2aa-1893c98c6219"
      },
      "execution_count": null,
      "outputs": [
        {
          "output_type": "stream",
          "name": "stdout",
          "text": [
            "llo\n"
          ]
        }
      ]
    },
    {
      "cell_type": "code",
      "source": [
        "#Slice From the Start\n",
        "a = \"all glitters or not gold\"\n",
        "print(a[:5])\n",
        "#Slice To the End\n",
        "print(a[2:])"
      ],
      "metadata": {
        "colab": {
          "base_uri": "https://localhost:8080/"
        },
        "id": "SnMoy2eEzgW7",
        "outputId": "2c217398-9c85-43a8-b87e-b3cf5713a30f"
      },
      "execution_count": null,
      "outputs": [
        {
          "output_type": "stream",
          "name": "stdout",
          "text": [
            "all g\n",
            "l glitters or not gold\n"
          ]
        }
      ]
    },
    {
      "cell_type": "code",
      "source": [
        "#Modify Strings\n",
        "\n",
        "#upper case\n",
        "a = \"explore the world\"\n",
        "print(a.upper())\n",
        "\n",
        "#lower case\n",
        "print(a.lower())\n",
        "\n",
        "#Remove Whitespace\n",
        "print(a.strip())\n",
        "\n",
        "#Replace String\n",
        "print(a.replace(\"world\", \"universe\"))\n",
        "\n",
        "#Split String\n",
        "print(a.split(\",\"))"
      ],
      "metadata": {
        "colab": {
          "base_uri": "https://localhost:8080/"
        },
        "id": "M0oaSLMl1jtF",
        "outputId": "5885566d-8393-4c04-e307-b28aa3c40a3d"
      },
      "execution_count": null,
      "outputs": [
        {
          "output_type": "stream",
          "name": "stdout",
          "text": [
            "EXPLORE THE WORLD\n",
            "explore the world\n",
            "explore the world\n",
            "explore the universe\n",
            "['explore the world']\n"
          ]
        }
      ]
    },
    {
      "cell_type": "code",
      "source": [
        "#String Concatenation\n",
        "#combining two strings using \"+\" operator\n",
        "a = \"Hello\"\n",
        "b = \"World\"\n",
        "c = a + b\n",
        "print(c)"
      ],
      "metadata": {
        "colab": {
          "base_uri": "https://localhost:8080/"
        },
        "id": "4MxbMz513EI5",
        "outputId": "5929551e-9eee-4462-9448-e526451f8312"
      },
      "execution_count": null,
      "outputs": [
        {
          "output_type": "stream",
          "name": "stdout",
          "text": [
            "HelloWorld\n"
          ]
        }
      ]
    },
    {
      "cell_type": "code",
      "source": [
        "#String Format\n",
        "age = 36\n",
        "#This will produce an error:\n",
        "txt = \"My name is arjun, I am \" + age\n",
        "print(txt)"
      ],
      "metadata": {
        "colab": {
          "base_uri": "https://localhost:8080/",
          "height": 200
        },
        "id": "vTcBkldD3fll",
        "outputId": "cb330090-ef0f-48cd-8ccb-bbe6d6704194"
      },
      "execution_count": null,
      "outputs": [
        {
          "output_type": "error",
          "ename": "TypeError",
          "evalue": "can only concatenate str (not \"int\") to str",
          "traceback": [
            "\u001b[0;31m---------------------------------------------------------------------------\u001b[0m",
            "\u001b[0;31mTypeError\u001b[0m                                 Traceback (most recent call last)",
            "\u001b[0;32m/tmp/ipython-input-4137726290.py\u001b[0m in \u001b[0;36m<cell line: 0>\u001b[0;34m()\u001b[0m\n\u001b[1;32m      2\u001b[0m \u001b[0mage\u001b[0m \u001b[0;34m=\u001b[0m \u001b[0;36m36\u001b[0m\u001b[0;34m\u001b[0m\u001b[0;34m\u001b[0m\u001b[0m\n\u001b[1;32m      3\u001b[0m \u001b[0;31m#This will produce an error:\u001b[0m\u001b[0;34m\u001b[0m\u001b[0;34m\u001b[0m\u001b[0m\n\u001b[0;32m----> 4\u001b[0;31m \u001b[0mtxt\u001b[0m \u001b[0;34m=\u001b[0m \u001b[0;34m\"My name is arjun, I am \"\u001b[0m \u001b[0;34m+\u001b[0m \u001b[0mage\u001b[0m\u001b[0;34m\u001b[0m\u001b[0;34m\u001b[0m\u001b[0m\n\u001b[0m\u001b[1;32m      5\u001b[0m \u001b[0mprint\u001b[0m\u001b[0;34m(\u001b[0m\u001b[0mtxt\u001b[0m\u001b[0;34m)\u001b[0m\u001b[0;34m\u001b[0m\u001b[0;34m\u001b[0m\u001b[0m\n",
            "\u001b[0;31mTypeError\u001b[0m: can only concatenate str (not \"int\") to str"
          ]
        }
      ]
    },
    {
      "cell_type": "code",
      "source": [
        "#Placeholders and Modifiers\n",
        "age = 36\n",
        "txt = \"my name is jhon, i am {} year's old\"\n",
        "print(txt .format(age))"
      ],
      "metadata": {
        "colab": {
          "base_uri": "https://localhost:8080/"
        },
        "id": "D-pKzCwQ3vqu",
        "outputId": "ae2f42a7-51a2-4d82-fefb-a44590b9b214"
      },
      "execution_count": null,
      "outputs": [
        {
          "output_type": "stream",
          "name": "stdout",
          "text": [
            "my name is jhon, i am 36 year's old\n"
          ]
        }
      ]
    },
    {
      "cell_type": "code",
      "source": [
        "#String Methods\n",
        "a = \"Explore the World\"\n",
        "print(a.center(30))  # Centers the string within a width of 30 characters\n",
        "\n",
        "print(a.casefold())\n",
        "\n",
        "print(a.count(\"10\"))\n"
      ],
      "metadata": {
        "colab": {
          "base_uri": "https://localhost:8080/"
        },
        "id": "FhX3yqAj4_T6",
        "outputId": "88b9b745-b1cc-4071-e0f3-1de0281b59e1"
      },
      "execution_count": null,
      "outputs": [
        {
          "output_type": "stream",
          "name": "stdout",
          "text": [
            "      Explore the World       \n",
            "explore the world\n",
            "0\n"
          ]
        }
      ]
    },
    {
      "cell_type": "markdown",
      "source": [
        "#**Booleans**\n",
        "Booleans represent one of two values: True or False."
      ],
      "metadata": {
        "id": "7MFEBiTK7Bmn"
      }
    },
    {
      "cell_type": "code",
      "source": [
        "print(1 > 9)\n",
        "print(19 == 9)\n",
        "print(10 < 100)\n"
      ],
      "metadata": {
        "colab": {
          "base_uri": "https://localhost:8080/"
        },
        "id": "sq1KkBh77E7a",
        "outputId": "efa06c1a-1eac-4387-f77c-4a93b31596fa"
      },
      "execution_count": null,
      "outputs": [
        {
          "output_type": "stream",
          "name": "stdout",
          "text": [
            "False\n",
            "False\n",
            "True\n"
          ]
        }
      ]
    },
    {
      "cell_type": "markdown",
      "source": [
        "#**Operators**\n"
      ],
      "metadata": {
        "id": "fvTqbGR37n5a"
      }
    },
    {
      "cell_type": "code",
      "source": [
        "a = 20\n",
        "b = 10\n",
        "\n",
        "# Addition\n",
        "print(a+b)\n",
        "\n",
        "#sub\n",
        "print(a-b)\n",
        "\n",
        "#mul\n",
        "print(a*b)\n",
        "\n",
        "#div\n",
        "print(a/b)\n",
        "\n",
        "#mod\n",
        "print(a%b)\n",
        "\n",
        "#exp\n",
        "print(a**b)\n",
        "\n",
        "#floor\n",
        "print(a//b)"
      ],
      "metadata": {
        "colab": {
          "base_uri": "https://localhost:8080/"
        },
        "id": "FIcnLkth7ugs",
        "outputId": "334b6ec1-07c0-426b-bb16-bc62a499a97c"
      },
      "execution_count": null,
      "outputs": [
        {
          "output_type": "stream",
          "name": "stdout",
          "text": [
            "30\n",
            "10\n",
            "200\n",
            "2.0\n",
            "0\n",
            "10240000000000\n",
            "2\n"
          ]
        }
      ]
    },
    {
      "cell_type": "markdown",
      "source": [
        "#**Lists**"
      ],
      "metadata": {
        "id": "4P9iPKmG8U1w"
      }
    },
    {
      "cell_type": "code",
      "source": [
        "names = [\"arjun\", \"anu\", \"cherry\"]\n",
        "print(names)"
      ],
      "metadata": {
        "colab": {
          "base_uri": "https://localhost:8080/"
        },
        "id": "-p6ZCcku8S21",
        "outputId": "bd1e5d6c-9012-401f-cc26-0377027b54b0"
      },
      "execution_count": null,
      "outputs": [
        {
          "output_type": "stream",
          "name": "stdout",
          "text": [
            "['arjun', 'anu', 'cherry']\n"
          ]
        }
      ]
    },
    {
      "cell_type": "code",
      "source": [
        "#List Length\n",
        "names = [\"arjun\", \"anu\", \"cherry\"]\n",
        "print(len(names))"
      ],
      "metadata": {
        "colab": {
          "base_uri": "https://localhost:8080/"
        },
        "id": "RHwFxmMZ8tyM",
        "outputId": "268383ea-15b3-43db-b025-6bcbc250c00b"
      },
      "execution_count": null,
      "outputs": [
        {
          "output_type": "stream",
          "name": "stdout",
          "text": [
            "3\n"
          ]
        }
      ]
    },
    {
      "cell_type": "code",
      "source": [
        "#Access List Items\n",
        "thislist = [\"mango\", \"orange\", \"cherry\"]\n",
        "print(thislist[1])\n",
        "\n",
        "#Negative Indexing\n",
        "print(thislist[-1])"
      ],
      "metadata": {
        "colab": {
          "base_uri": "https://localhost:8080/"
        },
        "id": "Lz1G0dws9MCT",
        "outputId": "31940b3c-5543-4288-9eeb-6e0db6a35d59"
      },
      "execution_count": null,
      "outputs": [
        {
          "output_type": "stream",
          "name": "stdout",
          "text": [
            "orange\n",
            "cherry\n"
          ]
        }
      ]
    },
    {
      "cell_type": "markdown",
      "source": [
        "# **Change List Items**"
      ],
      "metadata": {
        "id": "KG3Pjz9T9xaq"
      }
    },
    {
      "cell_type": "code",
      "source": [
        "#Change Item Value\n",
        "thislist = [\"vanila\", \"chocolate\", \"strawberry\"]\n",
        "thislist[1] = \"blackcurrant\"\n",
        "print(thislist)\n",
        "\n",
        "#Change a Range of Item Values\n",
        "thislist = [\"apple\", \"banana\", \"cherry\", \"orange\", \"kiwi\", \"mango\"]\n",
        "thislist[1:3] = [\"blackcurrant\", \"watermelon\"]\n",
        "print(thislist)"
      ],
      "metadata": {
        "colab": {
          "base_uri": "https://localhost:8080/"
        },
        "id": "WY91QGSb9zjP",
        "outputId": "f74c43c3-8d71-4417-d7ce-b9f5588ead49"
      },
      "execution_count": null,
      "outputs": [
        {
          "output_type": "stream",
          "name": "stdout",
          "text": [
            "['vanila', 'blackcurrant', 'strawberry']\n",
            "['apple', 'blackcurrant', 'watermelon', 'orange', 'kiwi', 'mango']\n"
          ]
        }
      ]
    },
    {
      "cell_type": "code",
      "source": [
        "#Add List Items\n",
        "#To add an item to the end of the list, use the append() method:\n",
        "thislist = [\"apple\", \"banana\", \"cherry\"]\n",
        "thislist.append(\"orange\")\n",
        "print(thislist)"
      ],
      "metadata": {
        "colab": {
          "base_uri": "https://localhost:8080/"
        },
        "id": "T5e0sMh--gcL",
        "outputId": "36300bf5-5084-40dc-ae1e-a97f7347ed98"
      },
      "execution_count": null,
      "outputs": [
        {
          "output_type": "stream",
          "name": "stdout",
          "text": [
            "['apple', 'banana', 'cherry', 'orange']\n"
          ]
        }
      ]
    },
    {
      "cell_type": "code",
      "source": [
        "#Insert Items\n",
        "thislist = [\"apple\", \"mango\", \"grape\"]\n",
        "thislist.insert(2, \"orange\")\n",
        "print(thislist)\n",
        "\n",
        "#Remove Specified Item\n",
        "thislist.remove( \"mango\")\n",
        "print(thislist)\n",
        "\n",
        "#Remove Specified Index\n",
        "thislist.pop(1)\n",
        "print(thislist)\n",
        "\n",
        "#delete specific item\n",
        "del thislist[0]\n",
        "print(thislist)\n",
        "\n",
        "\n",
        "#clear list\n",
        "thislist.clear()\n",
        "print(thislist)"
      ],
      "metadata": {
        "colab": {
          "base_uri": "https://localhost:8080/"
        },
        "id": "UoK75UTn-rkz",
        "outputId": "0c82be6e-f13d-402a-802c-86865ccf4ead"
      },
      "execution_count": null,
      "outputs": [
        {
          "output_type": "stream",
          "name": "stdout",
          "text": [
            "['apple', 'mango', 'orange', 'grape']\n",
            "['apple', 'orange', 'grape']\n",
            "['apple', 'grape']\n",
            "['grape']\n",
            "[]\n"
          ]
        }
      ]
    },
    {
      "cell_type": "code",
      "source": [
        "#Loop Lists\n",
        "\n",
        "#Loop Through a List\n",
        "a = [\"kiwi\", \"pine apple\", \"mango\"]\n",
        "for x in a:\n",
        "  print(x)\n",
        "\n"
      ],
      "metadata": {
        "colab": {
          "base_uri": "https://localhost:8080/"
        },
        "id": "acyqlBbTAaK-",
        "outputId": "5071e9ac-1e58-4181-cec6-5da3509f06fc"
      },
      "execution_count": null,
      "outputs": [
        {
          "output_type": "stream",
          "name": "stdout",
          "text": [
            "kiwi\n",
            "pine apple\n",
            "mango\n"
          ]
        }
      ]
    },
    {
      "cell_type": "markdown",
      "source": [
        "# **Tuples**\n",
        "Tuples are used to store multiple items in a single variable."
      ],
      "metadata": {
        "id": "ZRXbh4twBmjd"
      }
    },
    {
      "cell_type": "code",
      "source": [
        "thistuple = (\"apple\", \"banana\", \"cherry\")\n",
        "print(thistuple)\n",
        "\n",
        "# its also allows duplicate values\n"
      ],
      "metadata": {
        "colab": {
          "base_uri": "https://localhost:8080/"
        },
        "id": "_CBjoQ7jBkh8",
        "outputId": "659704d8-aac2-49d5-bce5-6ddbcf9f13d5"
      },
      "execution_count": null,
      "outputs": [
        {
          "output_type": "stream",
          "name": "stdout",
          "text": [
            "('apple', 'banana', 'cherry')\n"
          ]
        }
      ]
    },
    {
      "cell_type": "code",
      "source": [
        "#Tuple length\n",
        "thistuple = (\"blackcurrant, watermelon\")\n",
        "print(len(thistuple))"
      ],
      "metadata": {
        "colab": {
          "base_uri": "https://localhost:8080/"
        },
        "id": "ILA5viMhB82J",
        "outputId": "879ffc68-17e9-4f11-a1d9-aa5e5234c0d1"
      },
      "execution_count": null,
      "outputs": [
        {
          "output_type": "stream",
          "name": "stdout",
          "text": [
            "24\n"
          ]
        }
      ]
    },
    {
      "cell_type": "code",
      "source": [
        "# Access tuple items\n",
        "thistuple = (\"blackcurrant\" , \"watermelon\", \" cherry\")\n",
        "print(thistuple[1])\n",
        "\n",
        "#Negative Indexing\n",
        "print(thistuple[-1])\n",
        "\n",
        "#Range of Indexes\n",
        "thistuple = (\"apple\", \"banana\", \"cherry\", \"orange\", \"kiwi\", \"melon\", \"mango\")\n",
        "print(thistuple[2:5])"
      ],
      "metadata": {
        "colab": {
          "base_uri": "https://localhost:8080/"
        },
        "id": "eDwCVFdwCX01",
        "outputId": "49f99ec8-3242-4a31-e043-8f46696c8f6a"
      },
      "execution_count": null,
      "outputs": [
        {
          "output_type": "stream",
          "name": "stdout",
          "text": [
            "watermelon\n",
            " cherry\n"
          ]
        }
      ]
    },
    {
      "cell_type": "code",
      "source": [
        "# Update Tuples\n",
        "\n",
        "#Change Tuple Values\n",
        "x = (\"apple\", \"banana\", \"cherry\")\n",
        "y = list(x)\n",
        "y[1] = \"kiwi\"\n",
        "x = tuple(y)\n",
        "\n",
        "print(x)\n",
        "\n",
        "#Add Items\n",
        "thistuple = (\"apple\", \"banana\", \"cherry\")\n",
        "y = list(thistuple)\n",
        "y.append(\"orange\")\n",
        "thistuple = tuple(y)\n",
        "\n",
        "print(thistuple)\n",
        "\n",
        "#Remove Items\n",
        "thistuple = (\"apple\", \"banana\", \"cherry\")\n",
        "y = list(thistuple)\n",
        "y.remove(\"apple\")\n",
        "thistuple = tuple(y)\n",
        "\n",
        "print(thistuple)"
      ],
      "metadata": {
        "colab": {
          "base_uri": "https://localhost:8080/"
        },
        "id": "nxK6yg0xEEEL",
        "outputId": "1b6872cb-0497-42b3-d2b2-9e607c3d5234"
      },
      "execution_count": null,
      "outputs": [
        {
          "output_type": "stream",
          "name": "stdout",
          "text": [
            "('apple', 'kiwi', 'cherry')\n",
            "('apple', 'banana', 'cherry', 'orange')\n",
            "('banana', 'cherry')\n"
          ]
        }
      ]
    },
    {
      "cell_type": "code",
      "source": [
        "#Using Asterisk*\n",
        "\n",
        "fruits = (\"apple\", \"banana\", \"cherry\", \"strawberry\", \"raspberry\")\n",
        "\n",
        "(green, yellow, *red) = fruits\n",
        "\n",
        "print(green)\n",
        "print(yellow)\n",
        "print(red)"
      ],
      "metadata": {
        "colab": {
          "base_uri": "https://localhost:8080/"
        },
        "id": "-wVzXYClEpTp",
        "outputId": "e0bf201f-83c6-47fe-cd7d-529a10b6abb8"
      },
      "execution_count": null,
      "outputs": [
        {
          "output_type": "stream",
          "name": "stdout",
          "text": [
            "apple\n",
            "banana\n",
            "['cherry', 'strawberry', 'raspberry']\n"
          ]
        }
      ]
    },
    {
      "cell_type": "code",
      "source": [
        "#Join Two Tuples\n",
        "tuple1 = (\"a\", \"b\" , \"c\")\n",
        "tuple2 = (1, 2, 3)\n",
        "\n",
        "tuple3 = tuple1 + tuple2\n",
        "print(tuple3)\n",
        "\n",
        "#Multiply Tuples\n",
        "fruits = ('cherry', 'strawberry', 'raspberry')\n",
        "mytuple = fruits * 3\n",
        "\n",
        "print(mytuple)"
      ],
      "metadata": {
        "colab": {
          "base_uri": "https://localhost:8080/"
        },
        "id": "SuBP4hZXFJGU",
        "outputId": "d964c94b-30bf-47e6-c94c-74b2b19ab4ee"
      },
      "execution_count": null,
      "outputs": [
        {
          "output_type": "stream",
          "name": "stdout",
          "text": [
            "('a', 'b', 'c', 1, 2, 3)\n",
            "('cherry', 'strawberry', 'raspberry', 'cherry', 'strawberry', 'raspberry', 'cherry', 'strawberry', 'raspberry')\n"
          ]
        }
      ]
    },
    {
      "cell_type": "code",
      "source": [
        "#Tuple Methods\n",
        "thistuple = (1, 3, 7, 8, 7, 5, 4, 6, 8, 5)\n",
        "\n",
        "x = thistuple.count(5)\n",
        "\n",
        "print(x)\n",
        "\n",
        "y = thistuple.index(4)\n",
        "print(y)"
      ],
      "metadata": {
        "colab": {
          "base_uri": "https://localhost:8080/"
        },
        "id": "CR4ETQgOEU_x",
        "outputId": "a1257ca8-5db6-4ce0-88dc-43f2d95b2f40"
      },
      "execution_count": null,
      "outputs": [
        {
          "output_type": "stream",
          "name": "stdout",
          "text": [
            "2\n",
            "6\n"
          ]
        }
      ]
    },
    {
      "cell_type": "markdown",
      "source": [
        "# **Sets**"
      ],
      "metadata": {
        "id": "SQkX3myOGdO2"
      }
    },
    {
      "cell_type": "code",
      "source": [
        "myset = {\"kiwi\", \"melon\", \"grape\"}\n",
        "print(myset)"
      ],
      "metadata": {
        "colab": {
          "base_uri": "https://localhost:8080/"
        },
        "id": "B9M0woZ-GiBg",
        "outputId": "74b2f61e-f48c-44a6-f302-4ab3d85710d7"
      },
      "execution_count": null,
      "outputs": [
        {
          "output_type": "stream",
          "name": "stdout",
          "text": [
            "{'grape', 'kiwi', 'melon'}\n"
          ]
        }
      ]
    },
    {
      "cell_type": "code",
      "source": [
        "#duplicates not allowed in sets\n",
        "myset = {\"kiwi\", \"melon\", \"grape\",\"kiwi\"}\n",
        "print(myset)\n",
        "\n",
        "#True and 1 is considered the same value:\n",
        "myset = {\"kiwi\", \"melon\", \"grape\",\"kiwi\",True,1,2}\n",
        "print(myset)\n",
        "\n",
        "#False and 0 is considered the same value:\n",
        "myset = {\"kiwi\", \"melon\", \"grape\",\"kiwi\",False,0,1}\n",
        "print(myset)"
      ],
      "metadata": {
        "colab": {
          "base_uri": "https://localhost:8080/"
        },
        "id": "MJ7Qyn_wH79W",
        "outputId": "2bc03d47-6e58-46da-9591-c8187eb96d8d"
      },
      "execution_count": null,
      "outputs": [
        {
          "output_type": "stream",
          "name": "stdout",
          "text": [
            "{'grape', 'kiwi', 'melon'}\n",
            "{True, 'kiwi', 2, 'melon', 'grape'}\n",
            "{False, 1, 'kiwi', 'melon', 'grape'}\n"
          ]
        }
      ]
    },
    {
      "cell_type": "code",
      "source": [
        "#Get the Length of a Set\n",
        "myset = {\"orange\",\"apple\", \"mango\"}\n",
        "print(len(myset))\n",
        "\n",
        "#type()\n",
        "myset = {\"orange\" , \"apple\",  \"mango\"}\n",
        "print(type(myset))"
      ],
      "metadata": {
        "colab": {
          "base_uri": "https://localhost:8080/"
        },
        "id": "EXZ8v4veI2BY",
        "outputId": "2004c65e-08bb-4feb-dcec-fa7e097aeacd"
      },
      "execution_count": null,
      "outputs": [
        {
          "output_type": "stream",
          "name": "stdout",
          "text": [
            "3\n",
            "<class 'set'>\n"
          ]
        }
      ]
    },
    {
      "cell_type": "markdown",
      "source": [
        "# **Access Set Items**"
      ],
      "metadata": {
        "id": "XzFVDDhMMhvp"
      }
    },
    {
      "cell_type": "code",
      "source": [
        "myset = {\"orange\" , \"apple\",  \"mango\"}\n",
        "for x in myset:\n",
        "\n",
        "  print(x)\n",
        "\n",
        "#element present in the set using \"in\" keyword\n",
        "print(\"mango\" in myset)\n",
        "\n",
        "#element not present in the set using \"not in\" keyword\n",
        "print(\"kiwi\" not in myset)\n",
        "\n",
        "print(\"cherry\" in myset)"
      ],
      "metadata": {
        "colab": {
          "base_uri": "https://localhost:8080/"
        },
        "id": "QdDJnZKKMj9u",
        "outputId": "1bee7e44-03f3-4244-8f68-09d8a81c3ee1"
      },
      "execution_count": null,
      "outputs": [
        {
          "output_type": "stream",
          "name": "stdout",
          "text": [
            "mango\n",
            "orange\n",
            "apple\n",
            "True\n",
            "True\n",
            "False\n"
          ]
        }
      ]
    },
    {
      "cell_type": "markdown",
      "source": [
        "# **Add Set Items**"
      ],
      "metadata": {
        "id": "pws-3GJ7OrNh"
      }
    },
    {
      "cell_type": "code",
      "source": [
        "myset = {\"kiwi\", \"grape\", \"melon\"}\n",
        "myset.add(\"orange\")\n",
        "print(\"myset\")"
      ],
      "metadata": {
        "colab": {
          "base_uri": "https://localhost:8080/"
        },
        "id": "69uarUSvOtWY",
        "outputId": "1d59fa14-e85b-4437-ab07-201b04ba34ff"
      },
      "execution_count": null,
      "outputs": [
        {
          "output_type": "stream",
          "name": "stdout",
          "text": [
            "myset\n"
          ]
        }
      ]
    },
    {
      "cell_type": "code",
      "source": [
        "#Add Sets\n",
        "bag1 = {\"mango\", \"pineapple\",\"rasberry\"}\n",
        "bag2 = {\"grapes\", \"kiwi\", \"cherry\"}\n",
        "\n",
        "bag1.update(bag2)\n",
        "print(bag1)"
      ],
      "metadata": {
        "colab": {
          "base_uri": "https://localhost:8080/"
        },
        "id": "ZJ2paPUMPYw2",
        "outputId": "3f768472-d25c-4c1a-f138-c4ca1cd9eb44"
      },
      "execution_count": null,
      "outputs": [
        {
          "output_type": "stream",
          "name": "stdout",
          "text": [
            "{'mango', 'kiwi', 'cherry', 'grapes', 'rasberry', 'pineapple'}\n"
          ]
        }
      ]
    },
    {
      "cell_type": "markdown",
      "source": [
        "# **Remove Set Items**"
      ],
      "metadata": {
        "id": "Va_tKqCEQTTt"
      }
    },
    {
      "cell_type": "code",
      "source": [
        "fruits = {\"apple\", \"banana\", \"cherry\"}\n",
        "\n",
        "fruits.remove(\"banana\")\n",
        "\n",
        "print(fruits)\n",
        "\n",
        "fruits.discard(\"cherry\")\n",
        "\n",
        "print(fruits)"
      ],
      "metadata": {
        "colab": {
          "base_uri": "https://localhost:8080/"
        },
        "id": "SAJe1bGXQVvV",
        "outputId": "7f5d5d36-1729-4a33-efc3-e00d0e7f376f"
      },
      "execution_count": null,
      "outputs": [
        {
          "output_type": "stream",
          "name": "stdout",
          "text": [
            "{'cherry', 'apple'}\n",
            "{'apple'}\n"
          ]
        }
      ]
    },
    {
      "cell_type": "code",
      "source": [
        "#Remove a random item by using the pop() method:\n",
        "fruits = {\"promogrnite\", \"banana\", \"kiwi\"}\n",
        "\n",
        "x = fruits.pop()\n",
        "\n",
        "print(x)\n",
        "\n",
        "print(fruits)"
      ],
      "metadata": {
        "colab": {
          "base_uri": "https://localhost:8080/"
        },
        "id": "2_v8pB01Rfeh",
        "outputId": "3af35be9-b24d-46b3-8db3-bdbd5d29b3fc"
      },
      "execution_count": null,
      "outputs": [
        {
          "output_type": "stream",
          "name": "stdout",
          "text": [
            "banana\n",
            "{'kiwi', 'promogrnite'}\n"
          ]
        }
      ]
    },
    {
      "cell_type": "code",
      "source": [
        "# Clear() using this keyword it clears the complete set\n",
        "fruits = {\"promogrnite\", \"banana\", \"kiwi\"}\n",
        "\n",
        "x = fruits.clear()\n",
        "\n",
        "print(fruits)"
      ],
      "metadata": {
        "colab": {
          "base_uri": "https://localhost:8080/"
        },
        "id": "tiFrpv6ISC15",
        "outputId": "585e6cf2-5ddd-4be2-9c4c-7bd5a755a5b7"
      },
      "execution_count": null,
      "outputs": [
        {
          "output_type": "stream",
          "name": "stdout",
          "text": [
            "set()\n"
          ]
        }
      ]
    },
    {
      "cell_type": "markdown",
      "source": [
        "# **Loop Sets**"
      ],
      "metadata": {
        "id": "ruoy_qMHSmpg"
      }
    },
    {
      "cell_type": "code",
      "source": [
        "#for loop\n",
        "countries = {\"India\",\"usa\", \"franace\"}\n",
        "for x in countries:\n",
        "  print(x)"
      ],
      "metadata": {
        "colab": {
          "base_uri": "https://localhost:8080/"
        },
        "id": "60vVlaEtSlgs",
        "outputId": "8c401099-4456-446f-e78f-b56466c07d18"
      },
      "execution_count": null,
      "outputs": [
        {
          "output_type": "stream",
          "name": "stdout",
          "text": [
            "usa\n",
            "franace\n",
            "India\n"
          ]
        }
      ]
    },
    {
      "cell_type": "markdown",
      "source": [
        "# **Join Sets**"
      ],
      "metadata": {
        "id": "tGTJRt0DU1t7"
      }
    },
    {
      "cell_type": "code",
      "source": [
        "#union or |\n",
        "\n",
        "set1 = {\"a\", \"b\", \"c\", 'd', \"f\"}\n",
        "set2 = {1, 2, 3}\n",
        "\n",
        "set3 = set1 | set2\n",
        "print(set3)"
      ],
      "metadata": {
        "colab": {
          "base_uri": "https://localhost:8080/"
        },
        "id": "JSH5BRqtVHCE",
        "outputId": "6243bdc1-9570-4074-adb5-1db362611720"
      },
      "execution_count": null,
      "outputs": [
        {
          "output_type": "stream",
          "name": "stdout",
          "text": [
            "{1, 2, 3, 'a', 'f', 'c', 'd', 'b'}\n"
          ]
        }
      ]
    },
    {
      "cell_type": "code",
      "source": [
        "#Join Multiple Sets\n",
        "set1 = {\"a\", \"b\" , \"c\"}\n",
        "set2 = {1, 2, 3}\n",
        "set3 = {True, False, False}\n",
        "set4 = {\"kiwi\", \"cherry\"}\n",
        "\n",
        "myset = set1.union(set2, set3, set4)\n",
        "print(myset)"
      ],
      "metadata": {
        "colab": {
          "base_uri": "https://localhost:8080/"
        },
        "id": "ScxPh40bY7CI",
        "outputId": "46d6faa3-d17a-47e6-e23c-8af13f051b64"
      },
      "execution_count": null,
      "outputs": [
        {
          "output_type": "stream",
          "name": "stdout",
          "text": [
            "{False, 1, 2, 3, 'kiwi', 'cherry', 'c', 'b', 'a'}\n"
          ]
        }
      ]
    },
    {
      "cell_type": "code",
      "source": [
        "#join set and a tuple\n",
        "x = {\"arjun\",\"krishna\",\"ravi\"}\n",
        "y = (1, 2, 3)\n",
        "\n",
        "z = x.union(y)\n",
        "print(z)"
      ],
      "metadata": {
        "colab": {
          "base_uri": "https://localhost:8080/"
        },
        "id": "NhjfL6MaZbVS",
        "outputId": "cfa1f629-7d94-43a9-cd34-413cb0987092"
      },
      "execution_count": null,
      "outputs": [
        {
          "output_type": "stream",
          "name": "stdout",
          "text": [
            "{1, 2, 3, 'krishna', 'arjun', 'ravi'}\n"
          ]
        }
      ]
    },
    {
      "cell_type": "code",
      "source": [
        "#intersection or &\n",
        "x = {\"apple\", \"wipro\", \"deloitte\"}\n",
        "y = {\"google\", \"microsoft\", \"apple\"}\n",
        "\n",
        "z = x.intersection(y)\n",
        "\n",
        "print(z)"
      ],
      "metadata": {
        "colab": {
          "base_uri": "https://localhost:8080/"
        },
        "id": "kymqpsl7aCT1",
        "outputId": "9389182f-cb0b-4c8e-ce6f-c0b1931008e0"
      },
      "execution_count": null,
      "outputs": [
        {
          "output_type": "stream",
          "name": "stdout",
          "text": [
            "{'apple'}\n"
          ]
        }
      ]
    },
    {
      "cell_type": "code",
      "source": [
        "# Difference or -\n",
        "x = {\"apple\", \"wipro\", \"deloitte\"}\n",
        "y = {\"google\", \"microsoft\", \"apple\"}\n",
        "\n",
        "z = x.difference(y)\n",
        "\n",
        "print(z)"
      ],
      "metadata": {
        "colab": {
          "base_uri": "https://localhost:8080/"
        },
        "id": "G-UM0h2HcsNV",
        "outputId": "b32eb50e-4e5a-49d1-86c4-5790ee41dc84"
      },
      "execution_count": null,
      "outputs": [
        {
          "output_type": "stream",
          "name": "stdout",
          "text": [
            "{'deloitte', 'wipro'}\n"
          ]
        }
      ]
    },
    {
      "cell_type": "code",
      "source": [
        "#Symmetric Differences or ^\n",
        "x = {\"apple\", \"wipro\", \"deloitte\",\"tcs\"}\n",
        "y = {\"google\", \"microsoft\", \"apple\", \"amazon\"}\n",
        "\n",
        "z = x.symmetric_difference(y)\n",
        "\n",
        "print(z)"
      ],
      "metadata": {
        "colab": {
          "base_uri": "https://localhost:8080/"
        },
        "id": "stKkbnLbdlhc",
        "outputId": "a7a34564-a7d6-41a2-ce18-da995a43fda1"
      },
      "execution_count": null,
      "outputs": [
        {
          "output_type": "stream",
          "name": "stdout",
          "text": [
            "{'google', 'deloitte', 'amazon', 'wipro', 'microsoft', 'tcs'}\n"
          ]
        }
      ]
    },
    {
      "cell_type": "markdown",
      "source": [
        "# **Set methods**"
      ],
      "metadata": {
        "id": "Bsp-XnRAfvxr"
      }
    },
    {
      "cell_type": "code",
      "source": [
        "original_set = {1, 2, 3, 4}\n",
        "copied_set = original_set.copy()\n",
        "original_set.add(5)\n",
        "copied_set.remove(1)\n",
        "print(\"Original Set:\", original_set)\n",
        "print(\"Copied Set:\", copied_set)\n"
      ],
      "metadata": {
        "colab": {
          "base_uri": "https://localhost:8080/"
        },
        "id": "1aJQh67Neltw",
        "outputId": "9ed255ae-6f3a-4484-b25c-aa5c123d1369"
      },
      "execution_count": null,
      "outputs": [
        {
          "output_type": "stream",
          "name": "stdout",
          "text": [
            "Original Set: {1, 2, 3, 4, 5}\n",
            "Copied Set: {2, 3, 4}\n"
          ]
        }
      ]
    },
    {
      "cell_type": "markdown",
      "source": [
        "# **Dictionaries**"
      ],
      "metadata": {
        "id": "jcrF0glXgbH0"
      }
    },
    {
      "cell_type": "code",
      "source": [
        "mycar = {\n",
        "    \"brand\": \"audi\",\n",
        "    \"model\": \"Q7\",\n",
        "    \"year\": 2024\n",
        "}\n",
        "print(mycar)\n"
      ],
      "metadata": {
        "colab": {
          "base_uri": "https://localhost:8080/"
        },
        "id": "BhPgjRhPgdaw",
        "outputId": "9124aafd-d6f8-4a2c-cb3a-42e3152c5dc0"
      },
      "execution_count": null,
      "outputs": [
        {
          "output_type": "stream",
          "name": "stdout",
          "text": [
            "{'brand': 'audi', 'model': 'Q7', 'year': 2024}\n"
          ]
        }
      ]
    },
    {
      "cell_type": "code",
      "source": [
        "#Dictionary iteams\n",
        "mycar = {\n",
        "    \"brand\": \"audi\",\n",
        "    \"model\": \"Q7\",\n",
        "    \"year\": 2024\n",
        "}\n",
        "print(mycar[\"brand\"])\n",
        "\n",
        "menu = {\n",
        "    \"food item\":\"biryani\",\n",
        "    \"price\":\"400\",\n",
        "    \"quantity\":\"2\"\n",
        "}\n",
        "print(menu[\"food item\"])\n",
        "\n"
      ],
      "metadata": {
        "colab": {
          "base_uri": "https://localhost:8080/"
        },
        "id": "bb8fbTnqhH0n",
        "outputId": "0f66d241-74e0-4d70-b6c9-06e4416cae85"
      },
      "execution_count": null,
      "outputs": [
        {
          "output_type": "stream",
          "name": "stdout",
          "text": [
            "audi\n",
            "biryani\n"
          ]
        }
      ]
    },
    {
      "cell_type": "code",
      "source": [
        "#Duplicates Not Allowed\n",
        "mycar = {\n",
        "    \"brand\": \"mahindra\",\n",
        "    \"model\": \"Thar\",\n",
        "    \"year\": 2024,\n",
        "    \"year\": 2023\n",
        "}\n",
        "print(mycar)\n"
      ],
      "metadata": {
        "colab": {
          "base_uri": "https://localhost:8080/"
        },
        "id": "K5hfEheZizaw",
        "outputId": "364fe6c0-655a-4373-b4e3-3d79fa0b197b"
      },
      "execution_count": null,
      "outputs": [
        {
          "output_type": "stream",
          "name": "stdout",
          "text": [
            "{'brand': 'mahindra', 'model': 'Thar', 'year': 2023}\n"
          ]
        }
      ]
    },
    {
      "cell_type": "code",
      "source": [
        "#data types\n",
        "thisdict = {\n",
        "  \"brand\": \"Ford\",\n",
        "  \"electric\": False,\n",
        "  \"year\": 1964,\n",
        "  \"colors\": [\"red\", \"white\", \"blue\"]\n",
        "}\n",
        "print(thisdict)"
      ],
      "metadata": {
        "colab": {
          "base_uri": "https://localhost:8080/"
        },
        "id": "lCMt9yD0jXqH",
        "outputId": "1f227b7a-f6c5-4f8a-842a-0b0e33bc5552"
      },
      "execution_count": null,
      "outputs": [
        {
          "output_type": "stream",
          "name": "stdout",
          "text": [
            "{'brand': 'Ford', 'electric': False, 'year': 1964, 'colors': ['red', 'white', 'blue']}\n"
          ]
        }
      ]
    },
    {
      "cell_type": "code",
      "source": [
        "#type()\n",
        "mycar = {\n",
        "    \"brand\": \"mahindra\",\n",
        "    \"model\": \"Thar\",\n",
        "    \"year\": 2024\n",
        "\n",
        "}\n",
        "print(type(thisdict))"
      ],
      "metadata": {
        "colab": {
          "base_uri": "https://localhost:8080/"
        },
        "id": "CWA2f2iHjpFa",
        "outputId": "3c7b39e4-685f-41d9-836b-0ced71e3e1c0"
      },
      "execution_count": null,
      "outputs": [
        {
          "output_type": "stream",
          "name": "stdout",
          "text": [
            "<class 'dict'>\n"
          ]
        }
      ]
    },
    {
      "cell_type": "markdown",
      "source": [
        "# **Access Dictionary Items**"
      ],
      "metadata": {
        "id": "lXVqfWDSlJHB"
      }
    },
    {
      "cell_type": "code",
      "source": [
        "#accessing items\n",
        "thisdict = {\n",
        "  \"brand\": \"Mahindra\",\n",
        "  \"model\": \"Thar\",\n",
        "  \"year\": 1964\n",
        "}\n",
        "x = thisdict[\"brand\"]\n",
        "print(x)\n",
        "\n",
        "y = thisdict[\"model\"]\n",
        "print(y)"
      ],
      "metadata": {
        "colab": {
          "base_uri": "https://localhost:8080/"
        },
        "id": "hhd0wqrSlK9I",
        "outputId": "be7ee0e5-b793-441d-b3df-5cace0a1e7f1"
      },
      "execution_count": null,
      "outputs": [
        {
          "output_type": "stream",
          "name": "stdout",
          "text": [
            "Mahindra\n",
            "Thar\n"
          ]
        }
      ]
    },
    {
      "cell_type": "markdown",
      "source": [
        " **Get Keys**"
      ],
      "metadata": {
        "id": "VjgkjrwVmNWV"
      }
    },
    {
      "cell_type": "code",
      "source": [
        "bike = {\n",
        "    \"brand\": \"royal enfield\",\n",
        "    \"model\": \"Gt 650\",\n",
        "    \"year\": 2025\n",
        "}\n",
        "x = bike.keys()\n",
        "print(x)\n",
        "\n",
        "x = thisdict.keys()"
      ],
      "metadata": {
        "colab": {
          "base_uri": "https://localhost:8080/"
        },
        "id": "LZDunj2FmQMR",
        "outputId": "51661c94-dbde-4249-dc25-b2d0cda5195f"
      },
      "execution_count": null,
      "outputs": [
        {
          "output_type": "stream",
          "name": "stdout",
          "text": [
            "dict_keys(['brand', 'model', 'year'])\n"
          ]
        }
      ]
    },
    {
      "cell_type": "markdown",
      "source": [
        " **Get Values**"
      ],
      "metadata": {
        "id": "CWdWkcLimxJD"
      }
    },
    {
      "cell_type": "code",
      "source": [
        "bike = {\n",
        "    \"brand\": \"royal enfield\",\n",
        "    \"model\": \"Gt 650\",\n",
        "    \"year\": 2025\n",
        "}\n",
        "x = bike.values()\n",
        "print(x)"
      ],
      "metadata": {
        "colab": {
          "base_uri": "https://localhost:8080/"
        },
        "id": "Iq8RrNDamzcZ",
        "outputId": "9706004b-a229-41ef-8eb1-ea96dd7871ed"
      },
      "execution_count": null,
      "outputs": [
        {
          "output_type": "stream",
          "name": "stdout",
          "text": [
            "dict_values(['royal enfield', 'Gt 650', 2025])\n"
          ]
        }
      ]
    },
    {
      "cell_type": "markdown",
      "source": [
        " **Get Items**"
      ],
      "metadata": {
        "id": "nsoqB3NfnIG3"
      }
    },
    {
      "cell_type": "code",
      "source": [
        "shoe = {\n",
        "    \"brand\": \"Nike\",\n",
        "    \"model\": \"Air Max\",\n",
        "    \"year\": 2023\n",
        "}\n",
        "x = shoe.items()\n",
        "print(x)\n"
      ],
      "metadata": {
        "colab": {
          "base_uri": "https://localhost:8080/"
        },
        "id": "FrfCBvTDnJ9X",
        "outputId": "ac0fbc58-8404-4f7b-9a3a-f84778c666a6"
      },
      "execution_count": null,
      "outputs": [
        {
          "output_type": "stream",
          "name": "stdout",
          "text": [
            "dict_items([('brand', 'Nike'), ('model', 'Air Max'), ('year', 2023)])\n"
          ]
        }
      ]
    },
    {
      "cell_type": "markdown",
      "source": [
        " **Check if Key Exists**"
      ],
      "metadata": {
        "id": "Qu0pJU8GnYKQ"
      }
    },
    {
      "cell_type": "code",
      "source": [
        "watch= {\n",
        "  \"brand\": \"jokers witch\",\n",
        "  \"model\": \"analog\",\n",
        "  \"year\": 2025\n",
        "}\n",
        "if \"model\" in thisdict:\n",
        "  print(\"Yes, 'model' is exists our store\")\n"
      ],
      "metadata": {
        "colab": {
          "base_uri": "https://localhost:8080/"
        },
        "id": "w6KtOelunak6",
        "outputId": "99eff26d-2b5a-4b66-eca0-62208802f397"
      },
      "execution_count": null,
      "outputs": [
        {
          "output_type": "stream",
          "name": "stdout",
          "text": [
            "Yes, 'model' is exists our store\n"
          ]
        }
      ]
    },
    {
      "cell_type": "markdown",
      "source": [
        "# **Change Dictionary Items**"
      ],
      "metadata": {
        "id": "9pRDhizio1IR"
      }
    },
    {
      "cell_type": "code",
      "source": [
        "watch= {\n",
        "  \"brand\": \"jokers witch\",\n",
        "  \"model\": \"analog\",\n",
        "  \"year\": 2025\n",
        "}\n",
        "watch[\"model\"] = 'smart'\n",
        "print(watch)\n",
        "\n",
        "#using update key word\n",
        "watch.update({\"year\": 2020})\n",
        "print(watch)"
      ],
      "metadata": {
        "colab": {
          "base_uri": "https://localhost:8080/"
        },
        "id": "hNwRwEeFpBV7",
        "outputId": "e3b94d7e-e0a5-4e82-cf20-6d2dd80e570d"
      },
      "execution_count": null,
      "outputs": [
        {
          "output_type": "stream",
          "name": "stdout",
          "text": [
            "{'brand': 'jokers witch', 'model': 'smart', 'year': 2025}\n",
            "{'brand': 'jokers witch', 'model': 'smart', 'year': 2020}\n"
          ]
        }
      ]
    },
    {
      "cell_type": "markdown",
      "source": [
        "# **Add Dictionary Items**"
      ],
      "metadata": {
        "id": "knXdURCRrksB"
      }
    },
    {
      "cell_type": "code",
      "source": [
        "#Add Dictionary Items\n",
        "watch= {\n",
        "  \"brand\": \"jokers witch\",\n",
        "  \"model\": \"analog\",\n",
        "  \"year\": 2025\n",
        "}\n",
        "watch[\"color\"] = \"black\"\n",
        "print(watch)\n",
        "\n",
        "#Update Dictionary\n",
        "watch= {\n",
        "  \"brand\": \"jokers witch\",\n",
        "  \"model\": \"analog\",\n",
        "  \"year\": 2025\n",
        "}\n",
        "watch.update({\"color\": \"stainless steel\"})\n",
        "print(watch)"
      ],
      "metadata": {
        "colab": {
          "base_uri": "https://localhost:8080/"
        },
        "id": "HTG0bw4QsKsw",
        "outputId": "e0d7a367-d83e-4670-928e-21a0978970b7"
      },
      "execution_count": null,
      "outputs": [
        {
          "output_type": "stream",
          "name": "stdout",
          "text": [
            "{'brand': 'jokers witch', 'model': 'analog', 'year': 2025, 'color': 'black'}\n",
            "{'brand': 'jokers witch', 'model': 'analog', 'year': 2025, 'color': 'stainless steel'}\n"
          ]
        }
      ]
    },
    {
      "cell_type": "markdown",
      "source": [
        "# **Nested dictionaries**"
      ],
      "metadata": {
        "id": "pi2fiS8ZuIfB"
      }
    },
    {
      "cell_type": "code",
      "source": [
        "mycarCollection = {\n",
        "  \"car1\" : {\n",
        "    \"name\" : \"ford\",\n",
        "    \"year\" : 2020\n",
        "  },\n",
        "  \"car2\" : {\n",
        "    \"name\" : \"bently\",\n",
        "    \"year\" : 2026\n",
        "  },\n",
        "  \"car3\" : {\n",
        "    \"name\" : \"tesla\",\n",
        "    \"year\" : 2024\n",
        "  }\n",
        "}\n",
        "\n",
        "print(mycarCollection)\n"
      ],
      "metadata": {
        "colab": {
          "base_uri": "https://localhost:8080/"
        },
        "id": "HW3KcrczuNnJ",
        "outputId": "9009a9d7-fb52-4fe5-f60e-f68d0af3326d"
      },
      "execution_count": null,
      "outputs": [
        {
          "output_type": "stream",
          "name": "stdout",
          "text": [
            "{'car1': {'name': 'ford', 'year': 2020}, 'car2': {'name': 'bently', 'year': 2026}, 'car3': {'name': 'tesla', 'year': 2024}}\n"
          ]
        }
      ]
    },
    {
      "cell_type": "markdown",
      "source": [
        "**Access Items in Nested Dictionaries**"
      ],
      "metadata": {
        "id": "KXSLsNBJwLlf"
      }
    },
    {
      "cell_type": "code",
      "source": [
        "mycarCollection = {\n",
        "  \"car1\" : {\n",
        "    \"name\" : \"ford\",\n",
        "    \"year\" : 2020\n",
        "  },\n",
        "  \"car2\" : {\n",
        "    \"name\" : \"bently\",\n",
        "    \"year\" : 2026\n",
        "  },\n",
        "  \"car3\" : {\n",
        "    \"name\" : \"tesla\",\n",
        "    \"year\" : 2024\n",
        "  }\n",
        "}\n",
        "\n",
        "print(mycarCollection[\"car2\"][\"name\"])\n"
      ],
      "metadata": {
        "colab": {
          "base_uri": "https://localhost:8080/"
        },
        "id": "X0FF_L4RwNUh",
        "outputId": "4a5b2a35-6a39-4743-ee42-e22fe09e49b9"
      },
      "execution_count": null,
      "outputs": [
        {
          "output_type": "stream",
          "name": "stdout",
          "text": [
            "bently\n"
          ]
        }
      ]
    },
    {
      "cell_type": "markdown",
      "source": [
        "**Loop through nested  Dictionaries**"
      ],
      "metadata": {
        "id": "8QnXtGpvwsUy"
      }
    },
    {
      "cell_type": "code",
      "source": [
        "mycarCollection = {\n",
        "  \"car1\" : {\n",
        "    \"name\" : \"ford\",\n",
        "    \"year\" : 2020\n",
        "  },\n",
        "  \"car2\" : {\n",
        "    \"name\" : \"bently\",\n",
        "    \"year\" : 2026\n",
        "  },\n",
        "  \"car3\" : {\n",
        "    \"name\" : \"tesla\",\n",
        "    \"year\" : 2024\n",
        "  }\n",
        "}\n",
        "\n",
        "for x, obj in mycarCollection.items():\n",
        "    print(x)\n",
        "\n",
        "    for y in obj:\n",
        "        print(y + ':', obj[y])\n"
      ],
      "metadata": {
        "colab": {
          "base_uri": "https://localhost:8080/"
        },
        "id": "uYEZQzPIwxZx",
        "outputId": "97f39786-9f85-4713-e738-ee1b5b696bc9"
      },
      "execution_count": null,
      "outputs": [
        {
          "output_type": "stream",
          "name": "stdout",
          "text": [
            "car1\n",
            "name: ford\n",
            "year: 2020\n",
            "car2\n",
            "name: bently\n",
            "year: 2026\n",
            "car3\n",
            "name: tesla\n",
            "year: 2024\n"
          ]
        }
      ]
    },
    {
      "cell_type": "markdown",
      "source": [
        "\n",
        "**Dictionary from keys**"
      ],
      "metadata": {
        "id": "-kavFX7kymr-"
      }
    },
    {
      "cell_type": "code",
      "source": [
        "#fromkeys\n",
        "x = ('apple', 'melon', 'kiwi')\n",
        "y = 'fruit'\n",
        "\n",
        "thisdict = dict.fromkeys(x, y)\n",
        "\n",
        "\n",
        "print(thisdict)\n",
        "\n",
        "#setdefault\n",
        "car = {\n",
        "  \"brand\": \"Ford\",\n",
        "  \"model\": \"Mustang\",\n",
        "  \"year\": 1964\n",
        "}\n",
        "\n",
        "x = car.setdefault(\"model\", \"Bronco\")\n",
        "\n",
        "print(x)"
      ],
      "metadata": {
        "colab": {
          "base_uri": "https://localhost:8080/"
        },
        "id": "0WUIc2fFyyOQ",
        "outputId": "46683ec6-5b2b-4ee2-f04b-819ae3a3b494"
      },
      "execution_count": null,
      "outputs": [
        {
          "output_type": "stream",
          "name": "stdout",
          "text": [
            "{'apple': 'fruit', 'melon': 'fruit', 'kiwi': 'fruit'}\n",
            "Mustang\n"
          ]
        }
      ]
    },
    {
      "cell_type": "markdown",
      "source": [
        "# **Conditions and If statements**"
      ],
      "metadata": {
        "id": "0YM-kjYbzx3X"
      }
    },
    {
      "cell_type": "code",
      "source": [
        "#if condition\n",
        "a = 20\n",
        "b = 30\n",
        "if a<b:\n",
        "  print(\"a is greater than b\")"
      ],
      "metadata": {
        "colab": {
          "base_uri": "https://localhost:8080/"
        },
        "id": "p5pq73Pzzzz5",
        "outputId": "85642041-8701-4c1d-d01a-88ee133f722d"
      },
      "execution_count": null,
      "outputs": [
        {
          "output_type": "stream",
          "name": "stdout",
          "text": [
            "a is greater than b\n"
          ]
        }
      ]
    },
    {
      "cell_type": "code",
      "source": [
        "#elif\n",
        "a = 200\n",
        "b = 200\n",
        "if b > a:\n",
        "  print(\"b is greater than a\")\n",
        "elif a == b:\n",
        "  print(\"a and b are equal\")"
      ],
      "metadata": {
        "colab": {
          "base_uri": "https://localhost:8080/"
        },
        "id": "wOdiPht70ZWH",
        "outputId": "26b9ea2d-b4a5-47a1-b9ee-25fcdc4142da"
      },
      "execution_count": null,
      "outputs": [
        {
          "output_type": "stream",
          "name": "stdout",
          "text": [
            "a and b are equal\n"
          ]
        }
      ]
    },
    {
      "cell_type": "code",
      "source": [
        "#else\n",
        "a = 90\n",
        "b = 10\n",
        "if b > a:\n",
        "  print(\"b is greater than a\")\n",
        "elif a == b:\n",
        "  print(\"a and b are equal\")\n",
        "else:\n",
        "  print(\"a is greater than b\")"
      ],
      "metadata": {
        "colab": {
          "base_uri": "https://localhost:8080/"
        },
        "id": "nyb7mAfb0vsQ",
        "outputId": "a207dd40-97bc-4090-b830-7e9558dccf3f"
      },
      "execution_count": null,
      "outputs": [
        {
          "output_type": "stream",
          "name": "stdout",
          "text": [
            "a is greater than b\n"
          ]
        }
      ]
    },
    {
      "cell_type": "code",
      "source": [
        "#And\n",
        "a = 200\n",
        "b = 33\n",
        "c = 500\n",
        "if a > b and c > a:\n",
        "  print(\"Both conditions are True\")"
      ],
      "metadata": {
        "colab": {
          "base_uri": "https://localhost:8080/"
        },
        "id": "D48eZWFY1Ae3",
        "outputId": "4b9601ac-f105-4f5c-f65a-2c6c222a58a9"
      },
      "execution_count": null,
      "outputs": [
        {
          "output_type": "stream",
          "name": "stdout",
          "text": [
            "Both conditions are True\n"
          ]
        }
      ]
    },
    {
      "cell_type": "code",
      "source": [
        "#OR\n",
        "a = 200\n",
        "b = 33\n",
        "c = 500\n",
        "if a > b or c < a:\n",
        "  print(\"Both conditions are True\")"
      ],
      "metadata": {
        "colab": {
          "base_uri": "https://localhost:8080/"
        },
        "id": "pKgMTjh71Ib5",
        "outputId": "d31670c1-b26d-46f9-bbee-b826e416d387"
      },
      "execution_count": null,
      "outputs": [
        {
          "output_type": "stream",
          "name": "stdout",
          "text": [
            "Both conditions are True\n"
          ]
        }
      ]
    },
    {
      "cell_type": "code",
      "source": [
        "#not\n",
        "a = 15\n",
        "b = 20\n",
        "if not a > b:\n",
        "  print(\"a is NOT greater than b\")"
      ],
      "metadata": {
        "colab": {
          "base_uri": "https://localhost:8080/"
        },
        "id": "r8ej_6kc1VFG",
        "outputId": "782c2336-7ac7-4da1-d6cf-edc1767e9f13"
      },
      "execution_count": null,
      "outputs": [
        {
          "output_type": "stream",
          "name": "stdout",
          "text": [
            "a is NOT greater than b\n"
          ]
        }
      ]
    },
    {
      "cell_type": "code",
      "source": [
        "#Nested if\n",
        "x = 15\n",
        "\n",
        "if x > 10:\n",
        "  print(\"Above ten,\")\n",
        "  if x > 20:\n",
        "    print(\"and also above 20!\")\n",
        "  else:\n",
        "    print(\"but not above 20.\")\n"
      ],
      "metadata": {
        "colab": {
          "base_uri": "https://localhost:8080/"
        },
        "id": "uPqB7opP1obV",
        "outputId": "2a22c9cd-437a-4224-bdc7-d75a6b1a7b3b"
      },
      "execution_count": null,
      "outputs": [
        {
          "output_type": "stream",
          "name": "stdout",
          "text": [
            "Above ten,\n",
            "but not above 20.\n"
          ]
        }
      ]
    },
    {
      "cell_type": "code",
      "source": [
        "#pass statement\n",
        "a = 92\n",
        "b = 39\n",
        "if a>b:\n",
        "  print(\"pass\")"
      ],
      "metadata": {
        "colab": {
          "base_uri": "https://localhost:8080/"
        },
        "id": "Iw5ZqWiN2MKa",
        "outputId": "b1010486-0c90-4995-e894-a6ff42d27d18"
      },
      "execution_count": null,
      "outputs": [
        {
          "output_type": "stream",
          "name": "stdout",
          "text": [
            "pass\n"
          ]
        }
      ]
    },
    {
      "cell_type": "markdown",
      "source": [
        "# **Match Case**\n",
        "\n",
        "The match expression is evaluated once.\n",
        "\n",
        "The value of the expression is compared with the values of each case.\n",
        "\n",
        "If there is a match, the associated block of code is executed."
      ],
      "metadata": {
        "id": "MWPMxTDE263f"
      }
    },
    {
      "cell_type": "code",
      "source": [
        "day = 6\n",
        "match day:\n",
        "    case 1:\n",
        "        print(\"januaray\")\n",
        "    case 2:\n",
        "        print(\"febuaray\")\n",
        "    case 3:\n",
        "        print(\"march\")\n",
        "    case 4:\n",
        "        print(\"April\")\n",
        "    case 5:\n",
        "        print(\"may\")\n",
        "    case 6:\n",
        "        print(\"june\")\n",
        "    case 7:\n",
        "        print(\"July\")\n",
        "    case 8:\n",
        "        print(\"August\")\n",
        "    case 9:\n",
        "        print(\"September\")\n",
        "    case 10:\n",
        "        print(\"October\")\n",
        "    case 11:\n",
        "        print(\"November\")\n",
        "    case 12:\n",
        "        print(\"December\")"
      ],
      "metadata": {
        "colab": {
          "base_uri": "https://localhost:8080/"
        },
        "id": "OGDBPyccGlRs",
        "outputId": "f7ba78d5-1734-4d29-b420-f373e5b6706d"
      },
      "execution_count": 3,
      "outputs": [
        {
          "output_type": "stream",
          "name": "stdout",
          "text": [
            "june\n"
          ]
        }
      ]
    },
    {
      "cell_type": "markdown",
      "source": [
        "**Default Value**"
      ],
      "metadata": {
        "id": "0d9-suR4I8pJ"
      }
    },
    {
      "cell_type": "code",
      "source": [
        "day = 4\n",
        "match day:\n",
        "  case 6:\n",
        "    print(\"Today is Saturday\")\n",
        "  case 7:\n",
        "    print(\"Today is Sunday\")\n",
        "  case _:\n",
        "    print(\"Looking forward to the Weekend\")"
      ],
      "metadata": {
        "colab": {
          "base_uri": "https://localhost:8080/"
        },
        "id": "3fAOrN_TI-tS",
        "outputId": "111cf8ef-cf72-4fe2-c7e3-4844fbdbfb42"
      },
      "execution_count": 4,
      "outputs": [
        {
          "output_type": "stream",
          "name": "stdout",
          "text": [
            "Looking forward to the Weekend\n"
          ]
        }
      ]
    },
    {
      "cell_type": "markdown",
      "source": [
        "**Combine Values**\n",
        "\n",
        "using pipe symbol(|)"
      ],
      "metadata": {
        "id": "0LUsZD8_LvS4"
      }
    },
    {
      "cell_type": "code",
      "source": [
        "day = 6\n",
        "match day:\n",
        "  case 1 | 2 | 3 | 4 | 5:\n",
        "    print(\"Today is a weekday\")\n",
        "  case 6 | 7:\n",
        "    print(\"I like weekends!\")"
      ],
      "metadata": {
        "colab": {
          "base_uri": "https://localhost:8080/"
        },
        "id": "zT4TfHh2L8af",
        "outputId": "c2f5497e-2b45-4914-e746-43c84fb76747"
      },
      "execution_count": 6,
      "outputs": [
        {
          "output_type": "stream",
          "name": "stdout",
          "text": [
            "I like weekends!\n"
          ]
        }
      ]
    },
    {
      "cell_type": "markdown",
      "source": [
        "#**If Statements as Guards**\n",
        "\n",
        "You can add if statements in the case evaluation as an extra condition-check:"
      ],
      "metadata": {
        "id": "7Nsf_G_VMdwQ"
      }
    },
    {
      "cell_type": "code",
      "source": [
        "x = 20\n",
        "\n",
        "match x:\n",
        "    case int() if x > 0:\n",
        "        print(\"Positive integer\")\n",
        "    case int() if x < 0:\n",
        "        print(\"Negative integer\")\n",
        "    case int():\n",
        "        print(\"Zero\")\n",
        "    case _:\n",
        "        print(\"Not an integer\")\n"
      ],
      "metadata": {
        "colab": {
          "base_uri": "https://localhost:8080/"
        },
        "id": "JzBewmdjMiGP",
        "outputId": "2ccbaa5c-1cd7-420e-c2ee-c23aad20fdef"
      },
      "execution_count": 9,
      "outputs": [
        {
          "output_type": "stream",
          "name": "stdout",
          "text": [
            "Positive integer\n"
          ]
        }
      ]
    }
  ]
}