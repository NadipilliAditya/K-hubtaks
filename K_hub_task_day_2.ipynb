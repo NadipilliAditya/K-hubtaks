{
  "nbformat": 4,
  "nbformat_minor": 0,
  "metadata": {
    "colab": {
      "provenance": [],
      "authorship_tag": "ABX9TyPZHc5ax15L+8gqbNOD6Hpw",
      "include_colab_link": true
    },
    "kernelspec": {
      "name": "python3",
      "display_name": "Python 3"
    },
    "language_info": {
      "name": "python"
    }
  },
  "cells": [
    {
      "cell_type": "markdown",
      "metadata": {
        "id": "view-in-github",
        "colab_type": "text"
      },
      "source": [
        "<a href=\"https://colab.research.google.com/github/NadipilliAditya/K-hubtaks/blob/main/K_hub_task_day_2.ipynb\" target=\"_parent\"><img src=\"https://colab.research.google.com/assets/colab-badge.svg\" alt=\"Open In Colab\"/></a>"
      ]
    },
    {
      "cell_type": "markdown",
      "source": [
        "# **Loops and functions**"
      ],
      "metadata": {
        "id": "-I4V0N7FtOLG"
      }
    },
    {
      "cell_type": "markdown",
      "source": [
        "**while loop**\n",
        "\n",
        "the while loop we can execute a set of statements as long as a condition is true."
      ],
      "metadata": {
        "id": "8zp9G_lztkFg"
      }
    },
    {
      "cell_type": "code",
      "source": [
        "i = 1\n",
        "while i < 6:\n",
        "  print(i)\n",
        "  i +=1"
      ],
      "metadata": {
        "colab": {
          "base_uri": "https://localhost:8080/"
        },
        "id": "k7aAKYjdtm5b",
        "outputId": "625e3383-4008-4ab0-f996-0ac126424fe3"
      },
      "execution_count": null,
      "outputs": [
        {
          "output_type": "stream",
          "name": "stdout",
          "text": [
            "1\n",
            "2\n",
            "3\n",
            "4\n",
            "5\n"
          ]
        }
      ]
    },
    {
      "cell_type": "markdown",
      "source": [
        "**Break Statement**\n",
        " we can stop the loop even if the while condition is true:"
      ],
      "metadata": {
        "id": "8CKXoQWBuxcc"
      }
    },
    {
      "cell_type": "code",
      "source": [
        "i = 5\n",
        "while i < 15:\n",
        "  print(i)\n",
        "  if i == 10:\n",
        "    break\n",
        "  i += 1"
      ],
      "metadata": {
        "colab": {
          "base_uri": "https://localhost:8080/"
        },
        "id": "a0ti1t-4wt51",
        "outputId": "97cb6b22-5731-461e-adb9-d9cdf3040fbf"
      },
      "execution_count": null,
      "outputs": [
        {
          "output_type": "stream",
          "name": "stdout",
          "text": [
            "5\n",
            "6\n",
            "7\n",
            "8\n",
            "9\n",
            "10\n"
          ]
        }
      ]
    },
    {
      "cell_type": "markdown",
      "source": [
        "**continue Statement** we can stop the current iteration, and continue with the next"
      ],
      "metadata": {
        "id": "aRZ4SGNWxDeQ"
      }
    },
    {
      "cell_type": "code",
      "source": [
        "#Continue to the next iteration if i is 10\n",
        "i = 2\n",
        "while i < 15:\n",
        "  i += 1\n",
        "  if i == 10:\n",
        "    continue\n",
        "  print(i)"
      ],
      "metadata": {
        "colab": {
          "base_uri": "https://localhost:8080/"
        },
        "id": "Am50Uhr_xJaC",
        "outputId": "df37a5a2-b85d-4eb6-82e0-dcba0ceb1da8"
      },
      "execution_count": null,
      "outputs": [
        {
          "output_type": "stream",
          "name": "stdout",
          "text": [
            "3\n",
            "4\n",
            "5\n",
            "6\n",
            "7\n",
            "8\n",
            "9\n",
            "11\n",
            "12\n",
            "13\n",
            "14\n",
            "15\n"
          ]
        }
      ]
    },
    {
      "cell_type": "code",
      "source": [
        "#else statement\n",
        "i = 1\n",
        "while i < 8:\n",
        "  print(i)\n",
        "  i += 1\n",
        "else:\n",
        "  print(\"i is no longer less than 8\")"
      ],
      "metadata": {
        "colab": {
          "base_uri": "https://localhost:8080/"
        },
        "id": "Rn80JL8pxo4y",
        "outputId": "04b05017-1c26-4ef3-ad66-10327408e70d"
      },
      "execution_count": null,
      "outputs": [
        {
          "output_type": "stream",
          "name": "stdout",
          "text": [
            "1\n",
            "2\n",
            "3\n",
            "4\n",
            "5\n",
            "6\n",
            "7\n",
            "i is no longer less than 8\n"
          ]
        }
      ]
    },
    {
      "cell_type": "markdown",
      "source": [
        "**For Loops**\n",
        "they are used to iterate in sequence"
      ],
      "metadata": {
        "id": "xeBHKiEXx9Y0"
      }
    },
    {
      "cell_type": "code",
      "source": [
        "cars = [\"ford\", \"audi\",\"skoda\", \"porsche\"]\n",
        "for x in cars:\n",
        "  print(x)"
      ],
      "metadata": {
        "colab": {
          "base_uri": "https://localhost:8080/"
        },
        "id": "rAPFRjefyH_F",
        "outputId": "55eeaa59-309e-43b4-d808-18d0f02e42c6"
      },
      "execution_count": null,
      "outputs": [
        {
          "output_type": "stream",
          "name": "stdout",
          "text": [
            "ford\n",
            "audi\n",
            "skoda\n",
            "porsche\n"
          ]
        }
      ]
    },
    {
      "cell_type": "code",
      "source": [
        "#Looping Through a String\n",
        "for x in \"Mahindra\":\n",
        "  print(x)"
      ],
      "metadata": {
        "colab": {
          "base_uri": "https://localhost:8080/"
        },
        "id": "f0tuavpSylHf",
        "outputId": "00f0fd22-248c-4ce5-8977-189c3241577e"
      },
      "execution_count": null,
      "outputs": [
        {
          "output_type": "stream",
          "name": "stdout",
          "text": [
            "M\n",
            "a\n",
            "h\n",
            "i\n",
            "n\n",
            "d\n",
            "r\n",
            "a\n"
          ]
        }
      ]
    },
    {
      "cell_type": "code",
      "source": [
        "#break statement\n",
        "cars = [\"mustang\", \"benz\", \"audi\", \"Bmw\"]\n",
        "for x in cars:\n",
        "  print(x)\n",
        "  if x == \"benz\":\n",
        "    break"
      ],
      "metadata": {
        "colab": {
          "base_uri": "https://localhost:8080/"
        },
        "id": "9KxvmN-dyt-K",
        "outputId": "6452699c-7ab7-40db-91e9-3d26de7e5a67"
      },
      "execution_count": null,
      "outputs": [
        {
          "output_type": "stream",
          "name": "stdout",
          "text": [
            "mustang\n",
            "benz\n"
          ]
        }
      ]
    },
    {
      "cell_type": "code",
      "source": [
        "#continue statment\n",
        "cars = [\"mustang\", \"benz\", \"audi\", \"Bmw\"]\n",
        "for x in cars:\n",
        "  if x == \"audi\":\n",
        "    continue\n",
        "  print(x)"
      ],
      "metadata": {
        "colab": {
          "base_uri": "https://localhost:8080/"
        },
        "id": "Q1BCQHDCzvkW",
        "outputId": "a366de36-d808-4bd2-e32b-d2add4c9b82b"
      },
      "execution_count": null,
      "outputs": [
        {
          "output_type": "stream",
          "name": "stdout",
          "text": [
            "mustang\n",
            "benz\n",
            "Bmw\n"
          ]
        }
      ]
    },
    {
      "cell_type": "markdown",
      "source": [
        "**Range() function**\n"
      ],
      "metadata": {
        "id": "DEdo4hBxz5ka"
      }
    },
    {
      "cell_type": "code",
      "source": [
        "for i in range(0,6):\n",
        "  print(i)\n",
        "\n"
      ],
      "metadata": {
        "colab": {
          "base_uri": "https://localhost:8080/"
        },
        "id": "qqMwDq-vz-Mz",
        "outputId": "3b6df094-8b2e-4a3d-e9aa-5894e5188a28"
      },
      "execution_count": null,
      "outputs": [
        {
          "output_type": "stream",
          "name": "stdout",
          "text": [
            "0\n",
            "1\n",
            "2\n",
            "3\n",
            "4\n",
            "5\n"
          ]
        }
      ]
    },
    {
      "cell_type": "code",
      "source": [
        "for i in range(0,12,2):\n",
        "  print(i)"
      ],
      "metadata": {
        "colab": {
          "base_uri": "https://localhost:8080/"
        },
        "id": "yqmxVNEm01Wy",
        "outputId": "f1cd9ea6-d13b-4b03-829d-86f6684ce160"
      },
      "execution_count": null,
      "outputs": [
        {
          "output_type": "stream",
          "name": "stdout",
          "text": [
            "0\n",
            "2\n",
            "4\n",
            "6\n",
            "8\n",
            "10\n"
          ]
        }
      ]
    },
    {
      "cell_type": "markdown",
      "source": [
        "**Nested Loops**"
      ],
      "metadata": {
        "id": "NjyeqpPk1O83"
      }
    },
    {
      "cell_type": "code",
      "source": [
        "cars = [\"Bmw\", \"audi\", \"Thar\"]\n",
        "colour = [\"black\", \"blue\", \"red\"]\n",
        "for x in cars:\n",
        "  for y in colour:\n",
        "    print(x, y)\n"
      ],
      "metadata": {
        "colab": {
          "base_uri": "https://localhost:8080/"
        },
        "id": "M88RNjRM1Q-f",
        "outputId": "3304a051-08a6-4df5-91ef-b1a1f6443a63"
      },
      "execution_count": null,
      "outputs": [
        {
          "output_type": "stream",
          "name": "stdout",
          "text": [
            "Bmw black\n",
            "Bmw blue\n",
            "Bmw red\n",
            "audi black\n",
            "audi blue\n",
            "audi red\n",
            "Thar black\n",
            "Thar blue\n",
            "Thar red\n"
          ]
        }
      ]
    },
    {
      "cell_type": "markdown",
      "source": [
        "**Questions on loops basic to higher medium level**\n"
      ],
      "metadata": {
        "id": "ouocvK1zQ4GT"
      }
    },
    {
      "cell_type": "code",
      "source": [
        "#Print Numbers from 1 to 10:\n",
        "for i in range(1,11):\n",
        "  print(i)"
      ],
      "metadata": {
        "colab": {
          "base_uri": "https://localhost:8080/"
        },
        "id": "o27SggSmRUll",
        "outputId": "d7a48e21-b17b-47a2-88b3-a28852880bf5"
      },
      "execution_count": null,
      "outputs": [
        {
          "output_type": "stream",
          "name": "stdout",
          "text": [
            "1\n",
            "2\n",
            "3\n",
            "4\n",
            "5\n",
            "6\n",
            "7\n",
            "8\n",
            "9\n",
            "10\n"
          ]
        }
      ]
    },
    {
      "cell_type": "code",
      "source": [
        "#Sum of All Even Numbers\n",
        "i = 0\n",
        "for num in range(1, 101):\n",
        "    if num % 2 == 0:\n",
        "      i += num\n",
        "\n",
        "print(\"Sum of even numbers from 1 to 100 is:\",i)"
      ],
      "metadata": {
        "colab": {
          "base_uri": "https://localhost:8080/"
        },
        "id": "lC9TlbQDUD1B",
        "outputId": "5c17cfc6-b88b-4075-9860-8d2ec443f803"
      },
      "execution_count": null,
      "outputs": [
        {
          "output_type": "stream",
          "name": "stdout",
          "text": [
            "Sum of even numbers from 1 to 100 is: 2550\n"
          ]
        }
      ]
    },
    {
      "cell_type": "code",
      "source": [
        "#Multiplication Table:\n",
        "num = int(input(\"Enter a number: \"))\n",
        "for i in range(1,13):\n",
        "    print(f\"{num} x {i} = {num * i}\")\n"
      ],
      "metadata": {
        "colab": {
          "base_uri": "https://localhost:8080/"
        },
        "id": "ld_Yqz_wWeuQ",
        "outputId": "509e2e92-fead-4731-e645-2155239d1ff9"
      },
      "execution_count": null,
      "outputs": [
        {
          "output_type": "stream",
          "name": "stdout",
          "text": [
            "Enter a number: 5\n",
            "5 x 1 = 5\n",
            "5 x 2 = 10\n",
            "5 x 3 = 15\n",
            "5 x 4 = 20\n",
            "5 x 5 = 25\n",
            "5 x 6 = 30\n",
            "5 x 7 = 35\n",
            "5 x 8 = 40\n",
            "5 x 9 = 45\n",
            "5 x 10 = 50\n",
            "5 x 11 = 55\n",
            "5 x 12 = 60\n"
          ]
        }
      ]
    },
    {
      "cell_type": "code",
      "source": [
        "#Print Odd Numbers with a Condition:\n",
        "for i in range(1,50):\n",
        "  if i % 5 != 0:\n",
        "    continue\n",
        "  if i % 2 !=0:\n",
        "    print(i)"
      ],
      "metadata": {
        "colab": {
          "base_uri": "https://localhost:8080/"
        },
        "id": "8YhcVgK-Y4rR",
        "outputId": "e92e69c8-e205-4327-d4bc-ba172016e00b"
      },
      "execution_count": null,
      "outputs": [
        {
          "output_type": "stream",
          "name": "stdout",
          "text": [
            "5\n",
            "15\n",
            "25\n",
            "35\n",
            "45\n"
          ]
        }
      ]
    },
    {
      "cell_type": "code",
      "source": [
        "#Find Prime Numbers (From 2 to n)\n",
        "n = int(input(\"Enter a number: \"))\n",
        "for num in range(2, n + 1):\n",
        "    for i in range(2, num):\n",
        "        if (num % i) == 0:\n",
        "            break\n",
        "    else:\n",
        "        print(num)"
      ],
      "metadata": {
        "colab": {
          "base_uri": "https://localhost:8080/"
        },
        "id": "7-9ydshTZ_XY",
        "outputId": "101ce34f-d7b9-4f02-efcf-e85b65cbed9d"
      },
      "execution_count": null,
      "outputs": [
        {
          "output_type": "stream",
          "name": "stdout",
          "text": [
            "Enter a number: 10\n",
            "2\n",
            "3\n",
            "5\n",
            "7\n"
          ]
        }
      ]
    },
    {
      "cell_type": "code",
      "source": [
        "#Find First Multiple of 7 in a Sequence\n",
        "while True:\n",
        "    num = int(input(\"Enter a number: \"))\n",
        "    if num < 0:\n",
        "        break\n",
        "    if num % 7 == 0:\n",
        "        print(f\"{num} is a multiple of 7. Stopping the input.\")\n",
        "        break\n"
      ],
      "metadata": {
        "colab": {
          "base_uri": "https://localhost:8080/"
        },
        "id": "r0DPoNQvcO7K",
        "outputId": "b08f8250-44d9-48d1-c936-68fb032a2b5e"
      },
      "execution_count": null,
      "outputs": [
        {
          "output_type": "stream",
          "name": "stdout",
          "text": [
            "Enter a number: 36\n",
            "Enter a number: 35\n",
            "35 is a multiple of 7. Stopping the input.\n"
          ]
        }
      ]
    },
    {
      "cell_type": "code",
      "source": [
        "#List Reversal Using a Loop:\n",
        "my_list = [1, 2, 3, 4, 5]\n",
        "reversedlist  = []\n",
        "for i in range(len(my_list) - 1, -1, -1):\n",
        "    reversedlist.append(my_list[i])\n",
        "    print(reversedlist)"
      ],
      "metadata": {
        "colab": {
          "base_uri": "https://localhost:8080/"
        },
        "id": "IWTdl_8Yc7cJ",
        "outputId": "3d051661-3ac7-475d-c36e-fc0ed00d5a66"
      },
      "execution_count": null,
      "outputs": [
        {
          "output_type": "stream",
          "name": "stdout",
          "text": [
            "[5]\n",
            "[5, 4]\n",
            "[5, 4, 3]\n",
            "[5, 4, 3, 2]\n",
            "[5, 4, 3, 2, 1]\n"
          ]
        }
      ]
    },
    {
      "cell_type": "code",
      "metadata": {
        "colab": {
          "base_uri": "https://localhost:8080/"
        },
        "id": "4cba6e53",
        "outputId": "a2317200-d4f9-44a4-d728-4598e11772ac"
      },
      "source": [
        "#Nested Loops - Pattern Printing:\n",
        "rows = 5\n",
        "for i in range(1, rows+1 ):\n",
        "  for j in range(i):\n",
        "    print(\"* \", end=\"\")\n",
        "  print()"
      ],
      "execution_count": null,
      "outputs": [
        {
          "output_type": "stream",
          "name": "stdout",
          "text": [
            "* \n",
            "* * \n",
            "* * * \n",
            "* * * * \n",
            "* * * * * \n"
          ]
        }
      ]
    },
    {
      "cell_type": "code",
      "source": [
        "#Multiplication Table Grid\n",
        "for i in range(1, 13):\n",
        "    for j in range(1, 13):\n",
        "        print(f\"{i*j:4}\", end=\"\")\n",
        "    print()\n"
      ],
      "metadata": {
        "colab": {
          "base_uri": "https://localhost:8080/"
        },
        "id": "YJPEnxKMniWY",
        "outputId": "623be676-bfed-4b2c-f8ec-a2c0aacb4d7b"
      },
      "execution_count": null,
      "outputs": [
        {
          "output_type": "stream",
          "name": "stdout",
          "text": [
            "   1   2   3   4   5   6   7   8   9  10  11  12\n",
            "   2   4   6   8  10  12  14  16  18  20  22  24\n",
            "   3   6   9  12  15  18  21  24  27  30  33  36\n",
            "   4   8  12  16  20  24  28  32  36  40  44  48\n",
            "   5  10  15  20  25  30  35  40  45  50  55  60\n",
            "   6  12  18  24  30  36  42  48  54  60  66  72\n",
            "   7  14  21  28  35  42  49  56  63  70  77  84\n",
            "   8  16  24  32  40  48  56  64  72  80  88  96\n",
            "   9  18  27  36  45  54  63  72  81  90  99 108\n",
            "  10  20  30  40  50  60  70  80  90 100 110 120\n",
            "  11  22  33  44  55  66  77  88  99 110 121 132\n",
            "  12  24  36  48  60  72  84  96 108 120 132 144\n"
          ]
        }
      ]
    },
    {
      "cell_type": "code",
      "source": [
        "#Find Factorial of a Number\n",
        "num = int(input(\"Enter a number: \"))\n",
        "factorial = 1\n",
        "for i in range(1, num + 1):\n",
        "    factorial *= i\n",
        "print(f\"Factorial of {num} is {factorial}\")\n"
      ],
      "metadata": {
        "colab": {
          "base_uri": "https://localhost:8080/"
        },
        "id": "aCx_Gmc0sGzp",
        "outputId": "f5703af0-b9c2-4313-ed92-e92ad51dcc50"
      },
      "execution_count": null,
      "outputs": [
        {
          "output_type": "stream",
          "name": "stdout",
          "text": [
            "Enter a number: 5\n",
            "Factorial of 5 is 120\n"
          ]
        }
      ]
    },
    {
      "cell_type": "code",
      "source": [
        "#find the Largest Number in a List\n",
        "numbers = [3, 9, 1, 6, 2, 8]\n",
        "largest = numbers[0]\n",
        "for num in numbers:\n",
        "    if num > largest:\n",
        "        largest = num\n",
        "print(f\"Largest number is {largest}\")"
      ],
      "metadata": {
        "colab": {
          "base_uri": "https://localhost:8080/"
        },
        "id": "UUxwpUV3zsjy",
        "outputId": "ef5545fe-e1e0-44c5-e1e3-a2bfd99ff6dd"
      },
      "execution_count": null,
      "outputs": [
        {
          "output_type": "stream",
          "name": "stdout",
          "text": [
            "Largest number is 9\n"
          ]
        }
      ]
    },
    {
      "cell_type": "code",
      "source": [
        "x = [1,2,3,4,5]\n",
        "for i in range(len(x)):\n",
        "  print(x[i])"
      ],
      "metadata": {
        "colab": {
          "base_uri": "https://localhost:8080/"
        },
        "id": "oTN0QJQaFmTQ",
        "outputId": "1e28d0c5-d978-4a6b-d34c-c7b3e0041dde"
      },
      "execution_count": null,
      "outputs": [
        {
          "output_type": "stream",
          "name": "stdout",
          "text": [
            "1\n",
            "2\n",
            "3\n",
            "4\n",
            "5\n"
          ]
        }
      ]
    },
    {
      "cell_type": "markdown",
      "source": [
        "**Functions**"
      ],
      "metadata": {
        "id": "PziLIxUR5EHE"
      }
    },
    {
      "cell_type": "code",
      "source": [
        "#Creating a Function\n",
        "def my_function():\n",
        "  print(\"hello\")"
      ],
      "metadata": {
        "id": "sAnWFHMP5IAw"
      },
      "execution_count": null,
      "outputs": []
    },
    {
      "cell_type": "code",
      "source": [
        "#calling function\n",
        "def my_function():\n",
        "  return(\" Hello,K-Hub\")\n",
        "my_function()"
      ],
      "metadata": {
        "colab": {
          "base_uri": "https://localhost:8080/"
        },
        "id": "_ZMY_anC571U",
        "outputId": "1e472df9-ff2b-40ad-86cf-a7f5269326be"
      },
      "execution_count": null,
      "outputs": [
        {
          "output_type": "stream",
          "name": "stdout",
          "text": [
            " Hello,K-Hub\n"
          ]
        }
      ]
    },
    {
      "cell_type": "code",
      "source": [
        "#Aruguments\n",
        "def my_function(audi):\n",
        "  return(\"audi\"+audi)\n",
        "my_function(\"Q7\")\n",
        "my_function(\"Q8\")"
      ],
      "metadata": {
        "colab": {
          "base_uri": "https://localhost:8080/"
        },
        "id": "274O_IJR6mpN",
        "outputId": "d72627c8-d908-49e1-af09-7a7ca241a0f5"
      },
      "execution_count": null,
      "outputs": [
        {
          "output_type": "stream",
          "name": "stdout",
          "text": [
            "audiQ7\n",
            "audiQ8\n"
          ]
        }
      ]
    },
    {
      "cell_type": "code",
      "source": [
        "#Number of Arguments\n",
        "def add(a,b):\n",
        "  return a+b\n",
        "add(2,3)\n",
        "\n"
      ],
      "metadata": {
        "colab": {
          "base_uri": "https://localhost:8080/"
        },
        "id": "19JvK3JB7mCs",
        "outputId": "f1b421f1-1752-4611-8b37-ec683af5107f"
      },
      "execution_count": null,
      "outputs": [
        {
          "output_type": "execute_result",
          "data": {
            "text/plain": [
              "5"
            ]
          },
          "metadata": {},
          "execution_count": 78
        }
      ]
    },
    {
      "cell_type": "code",
      "source": [
        "#Arbitrary Arguments, *args\n",
        "def function(*cars):\n",
        "  return(\"the best car is \"+cars[2])\n",
        "function(\"ford\",\"audi\",\"skoda\")\n"
      ],
      "metadata": {
        "id": "oN62mMDCagxQ",
        "colab": {
          "base_uri": "https://localhost:8080/",
          "height": 35
        },
        "outputId": "080ddb95-8204-44ce-fa04-dbb2795b8642"
      },
      "execution_count": null,
      "outputs": [
        {
          "output_type": "execute_result",
          "data": {
            "text/plain": [
              "'the best car is skoda'"
            ],
            "application/vnd.google.colaboratory.intrinsic+json": {
              "type": "string"
            }
          },
          "metadata": {},
          "execution_count": 9
        }
      ]
    },
    {
      "cell_type": "code",
      "source": [
        "def function(*snack):\n",
        "  return(\"the best snack is \"+snack[1])\n",
        "function(\"momos\",\"french fries\",\"shavarama\",\"Burger\",\"pasta\")\n"
      ],
      "metadata": {
        "colab": {
          "base_uri": "https://localhost:8080/"
        },
        "id": "J7c8OKsAG1XG",
        "outputId": "c5a42582-35c9-4d32-c7fe-f7ef6d5aeb4f"
      },
      "execution_count": null,
      "outputs": [
        {
          "output_type": "stream",
          "name": "stdout",
          "text": [
            "the best snack is french fries\n"
          ]
        }
      ]
    },
    {
      "cell_type": "code",
      "source": [
        "#Keyword Arguments\n",
        "def function(place1,place2,place3):\n",
        "  return(\"the best place is \"+place3)\n",
        "function(place1=\"delhi\",place2=\"mumbai\",place3=\"goa\")"
      ],
      "metadata": {
        "colab": {
          "base_uri": "https://localhost:8080/",
          "height": 35
        },
        "id": "AijKjKuAHvz9",
        "outputId": "da0ec88b-73b7-463b-9724-e0e28d1a1d4f"
      },
      "execution_count": null,
      "outputs": [
        {
          "output_type": "execute_result",
          "data": {
            "text/plain": [
              "'the best place is goa'"
            ],
            "application/vnd.google.colaboratory.intrinsic+json": {
              "type": "string"
            }
          },
          "metadata": {},
          "execution_count": 8
        }
      ]
    },
    {
      "cell_type": "code",
      "source": [
        "#Arbitrary Keyword Arguments, **kwargs\n",
        "def greet(**kwargs):\n",
        "    for key, value in kwargs.items():\n",
        "        print(f\"{key}: {value}\")\n",
        "\n",
        "greet(name=\"V akhil\", age=65, city=\"Nuzvid\")\n"
      ],
      "metadata": {
        "colab": {
          "base_uri": "https://localhost:8080/"
        },
        "id": "QUaMwzSVNXnF",
        "outputId": "1dcc10a9-93da-4dbc-9a59-1b2a6ee0471c"
      },
      "execution_count": null,
      "outputs": [
        {
          "output_type": "stream",
          "name": "stdout",
          "text": [
            "name: V akhil\n",
            "age: 65\n",
            "city: Nuzvid\n"
          ]
        }
      ]
    },
    {
      "cell_type": "code",
      "source": [
        "#Default Parameter Value\n",
        "def my_function(country = \"VIZAG\"):\n",
        "  print(\"I am from \" + country)\n",
        "\n",
        "my_function(\"GOA\")\n",
        "my_function(\"India\")\n",
        "my_function()\n",
        "my_function(\"MUNNAR\")\n",
        "my_function()\n"
      ],
      "metadata": {
        "colab": {
          "base_uri": "https://localhost:8080/"
        },
        "id": "uJpjwoMgOGBP",
        "outputId": "d14eec1a-8b34-46da-d34a-d208f2a6f3d1"
      },
      "execution_count": null,
      "outputs": [
        {
          "output_type": "stream",
          "name": "stdout",
          "text": [
            "I am from GOA\n",
            "I am from India\n",
            "I am from VIZAG\n",
            "I am from MUNNAR\n",
            "I am from VIZAG\n"
          ]
        }
      ]
    },
    {
      "cell_type": "code",
      "source": [
        "#Passing a List as an Argument\n",
        "def Food(food):\n",
        "  for x in food:\n",
        "    print(x)\n",
        "\n",
        "fruits = [\"kiwi\", \"Mango\", \"musk melon\"]\n",
        "\n",
        "Food(fruits)"
      ],
      "metadata": {
        "colab": {
          "base_uri": "https://localhost:8080/"
        },
        "id": "CZ8bwBL8Oxfm",
        "outputId": "c7ddb59b-75bf-42c1-cc47-0a81817c02c1"
      },
      "execution_count": null,
      "outputs": [
        {
          "output_type": "stream",
          "name": "stdout",
          "text": [
            "kiwi\n",
            "Mango\n",
            "musk melon\n"
          ]
        }
      ]
    },
    {
      "cell_type": "code",
      "source": [
        "#Return Values\n",
        "def my_function(x):\n",
        "  return 7 * x\n",
        "\n",
        "print(my_function(2))\n",
        "print(my_function(4))\n",
        "print(my_function(6))\n"
      ],
      "metadata": {
        "colab": {
          "base_uri": "https://localhost:8080/"
        },
        "id": "qaPDmLRLPx4U",
        "outputId": "dc1c734b-d0f7-49e7-dc4b-2e1fbfe9bf28"
      },
      "execution_count": null,
      "outputs": [
        {
          "output_type": "stream",
          "name": "stdout",
          "text": [
            "14\n",
            "28\n",
            "42\n"
          ]
        }
      ]
    },
    {
      "cell_type": "code",
      "source": [
        "#Positional-Only Arguments\n",
        "def my_function(*, x):\n",
        "  return(x)\n",
        "\n",
        "my_function(x = 45)\n"
      ],
      "metadata": {
        "colab": {
          "base_uri": "https://localhost:8080/"
        },
        "id": "ONFuoYM2qOQC",
        "outputId": "a06e5c30-61c7-4f63-d56b-45a83085e3a7"
      },
      "execution_count": 2,
      "outputs": [
        {
          "output_type": "execute_result",
          "data": {
            "text/plain": [
              "45"
            ]
          },
          "metadata": {},
          "execution_count": 2
        }
      ]
    },
    {
      "cell_type": "code",
      "source": [
        "#Combine Positional-Only and Keyword-Only\n",
        "def my_function(a, b, c, d):\n",
        "  return(a + b + c + d)\n",
        "\n",
        "my_function(5, 6, c = 7, d = 8)\n"
      ],
      "metadata": {
        "colab": {
          "base_uri": "https://localhost:8080/"
        },
        "id": "zOAaHJ4hsjbQ",
        "outputId": "fe118e72-c5c2-4d2b-da32-5b280a10cfa8"
      },
      "execution_count": 5,
      "outputs": [
        {
          "output_type": "execute_result",
          "data": {
            "text/plain": [
              "26"
            ]
          },
          "metadata": {},
          "execution_count": 5
        }
      ]
    },
    {
      "cell_type": "markdown",
      "source": [
        "**Lambda**"
      ],
      "metadata": {
        "id": "XH543764s_bk"
      }
    },
    {
      "cell_type": "code",
      "source": [
        "x = lambda a: a * 10\n",
        "print(x(5))\n",
        "\n",
        "#Multiply of two aruguments\n",
        "x = lambda a, b : a * b\n",
        "print(x(20, 30))"
      ],
      "metadata": {
        "colab": {
          "base_uri": "https://localhost:8080/"
        },
        "id": "buZ-bpg6tBD6",
        "outputId": "7ef89733-5836-47c7-b2b1-159250da6490"
      },
      "execution_count": 7,
      "outputs": [
        {
          "output_type": "stream",
          "name": "stdout",
          "text": [
            "50\n",
            "600\n"
          ]
        }
      ]
    },
    {
      "cell_type": "code",
      "source": [
        "def myfunc(n):\n",
        "  return lambda a : a * n\n",
        "\n",
        "mytriple = myfunc(3)\n",
        "\n",
        "print(mytriple(11))"
      ],
      "metadata": {
        "colab": {
          "base_uri": "https://localhost:8080/"
        },
        "id": "n8g0SU5PuSSb",
        "outputId": "5de9acef-175f-4a5a-869e-abdf54cc2950"
      },
      "execution_count": 10,
      "outputs": [
        {
          "output_type": "stream",
          "name": "stdout",
          "text": [
            "33\n"
          ]
        }
      ]
    }
  ]
}