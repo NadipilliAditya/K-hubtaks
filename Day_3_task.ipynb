{
  "nbformat": 4,
  "nbformat_minor": 0,
  "metadata": {
    "colab": {
      "provenance": [],
      "authorship_tag": "ABX9TyO7mpz8iHY3il81srnfW10m",
      "include_colab_link": true
    },
    "kernelspec": {
      "name": "python3",
      "display_name": "Python 3"
    },
    "language_info": {
      "name": "python"
    }
  },
  "cells": [
    {
      "cell_type": "markdown",
      "metadata": {
        "id": "view-in-github",
        "colab_type": "text"
      },
      "source": [
        "<a href=\"https://colab.research.google.com/github/NadipilliAditya/K-hubtaks/blob/main/Day_3_task.ipynb\" target=\"_parent\"><img src=\"https://colab.research.google.com/assets/colab-badge.svg\" alt=\"Open In Colab\"/></a>"
      ]
    },
    {
      "cell_type": "markdown",
      "source": [
        "# **Coffee Machine Program Requirements**"
      ],
      "metadata": {
        "id": "wTZ7SnMKxaD6"
      }
    },
    {
      "cell_type": "code",
      "source": [
        "MENU = {\n",
        "    \"espresso\": {\n",
        "        \"ingredients\": {\n",
        "            \"water\": 50,\n",
        "            \"coffee\": 18,\n",
        "        },\n",
        "        \"cost\": 150,\n",
        "    },\n",
        "    \"latte\": {\n",
        "        \"ingredients\": {\n",
        "            \"water\": 200,\n",
        "            \"milk\": 150,\n",
        "            \"coffee\": 24,\n",
        "        },\n",
        "        \"cost\": 200,\n",
        "    },\n",
        "    \"cappuccino\": {\n",
        "        \"ingredients\": {\n",
        "            \"water\": 250,\n",
        "            \"milk\": 100,\n",
        "            \"coffee\": 24,\n",
        "        },\n",
        "        \"cost\": 300,  # ₹50\n",
        "    }\n",
        "}\n",
        "\n",
        "resources = {\n",
        "    \"water\": 3000,\n",
        "    \"milk\": 4000,\n",
        "    \"coffee\": 1000,\n",
        "    \"Profit\": 0\n",
        "}\n",
        "\n",
        "def print_report():\n",
        "    print(f\"Water: {resources['water']}ml\")\n",
        "    print(f\"Milk: {resources['milk']}ml\")\n",
        "    print(f\"Coffee: {resources['coffee']}g\")\n",
        "    print(f\"Profit: ₹{resources['Profit']}\")\n",
        "\n",
        "def is_resource_sufficient(order_ingredients):\n",
        "    for item in order_ingredients:\n",
        "        if order_ingredients[item] > resources[item]:\n",
        "            print(f\"Sorry there is not enough {item}.\")\n",
        "            return False\n",
        "    return True\n",
        "\n",
        "def process_notes():\n",
        "    amount = int(input(\"Enter total amount inserted (in ₹): \"))\n",
        "    return amount\n",
        "\n",
        "def is_transaction_successful(money_received, drink_cost):\n",
        "    if money_received >= drink_cost:\n",
        "        change = money_received - drink_cost\n",
        "        if change > 0:\n",
        "            print(f\"Here is ₹{change} in change.\")\n",
        "        resources[\"Profit\"] += drink_cost\n",
        "        return True\n",
        "    else:\n",
        "        print(\"Sorry that's not enough money to buy your required coffee. Money refunded.\")\n",
        "        return False\n",
        "\n",
        "def make_coffee(drink_name, order_ingredients):\n",
        "    for item in order_ingredients:\n",
        "        resources[item] -= order_ingredients[item]\n",
        "    print(f\"Here is your {drink_name}. Enjoy! ☕\")\n",
        "\n",
        "def coffee_machine():\n",
        "    is_on = True\n",
        "    while is_on:\n",
        "        choice = input(\"What would you like? (espresso/latte/cappuccino): \").lower()\n",
        "        if choice == \"off\":\n",
        "            is_on = False\n",
        "        elif choice == \"report\":\n",
        "            print_report()\n",
        "        elif choice in MENU:\n",
        "            drink = MENU[choice]\n",
        "            if is_resource_sufficient(drink[\"ingredients\"]):\n",
        "                payment = process_notes()\n",
        "                if is_transaction_successful(payment, drink[\"cost\"]):\n",
        "                    make_coffee(choice, drink[\"ingredients\"])\n",
        "        else:\n",
        "            print(\"Invalid input. Please choose espresso, latte, or cappuccino in one of them.\")\n",
        "\n",
        "\n",
        "coffee_machine()\n",
        "\n"
      ],
      "metadata": {
        "colab": {
          "base_uri": "https://localhost:8080/"
        },
        "id": "2tCk-T_u1fqy",
        "outputId": "efc8d9ee-a82f-4e82-ea18-c19689acdf3a"
      },
      "execution_count": 10,
      "outputs": [
        {
          "name": "stdout",
          "output_type": "stream",
          "text": [
            "What would you like? (espresso/latte/cappuccino): LATTE\n",
            "Enter total amount inserted (in ₹): 102\n",
            "Sorry that's not enough money to buy your required coffee. Money refunded.\n",
            "What would you like? (espresso/latte/cappuccino): OFF\n"
          ]
        }
      ]
    }
  ]
}